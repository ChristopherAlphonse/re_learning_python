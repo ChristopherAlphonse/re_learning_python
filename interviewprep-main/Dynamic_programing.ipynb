{
 "cells": [
  {
   "cell_type": "markdown",
   "metadata": {},
   "source": [
    "- overlapping sub-problem\n",
    "- optimize sub-structure\n",
    "- Memoization\n"
   ]
  },
  {
   "cell_type": "code",
   "execution_count": 77,
   "metadata": {},
   "outputs": [
    {
     "name": "stdout",
     "output_type": "stream",
     "text": [
      "Fib of 30 = 832040\n",
      "This function was called: 2692537\n"
     ]
    }
   ],
   "source": [
    "counter = 0\n",
    "\n",
    "\n",
    "def fib(n):\n",
    "    global counter\n",
    "    counter += 1\n",
    "\n",
    "    if n == 0 or n == 1:\n",
    "        return n\n",
    "    return fib(n-1) + fib(n-2)\n",
    "\n",
    "\n",
    "n = 30\n",
    "print(f\"Fib of {n} = {fib(n)}\")\n",
    "print(f\"This function was called: {counter}\")"
   ]
  },
  {
   "cell_type": "code",
   "execution_count": 78,
   "metadata": {},
   "outputs": [
    {
     "name": "stdout",
     "output_type": "stream",
     "text": [
      "Fib of 30 = 832040\n",
      "This function was called: 59\n"
     ]
    }
   ],
   "source": [
    "# Memoization\n",
    "# top down\n",
    "\n",
    "counter = 0\n",
    "\n",
    "\n",
    "def fib(n, memo={}):\n",
    "    global counter\n",
    "    counter += 1\n",
    "\n",
    "    if n in memo:\n",
    "        return memo[n]\n",
    "\n",
    "    if n == 0 or n == 1:\n",
    "        return n\n",
    "    # store the value before retuning\n",
    "    memo[n] = fib(n-1, memo) + fib(n-2, memo)\n",
    "    return memo[n]\n",
    "\n",
    "\n",
    "n = 30\n",
    "print(f\"Fib of {n} = {fib(n)}\")\n",
    "\n",
    "print(f\"This function was called: {counter}\")"
   ]
  },
  {
   "cell_type": "code",
   "execution_count": 79,
   "metadata": {},
   "outputs": [
    {
     "name": "stdout",
     "output_type": "stream",
     "text": [
      "Fib of 30 = 832040\n",
      "This function was called: 29\n"
     ]
    }
   ],
   "source": [
    "# bottom up\n",
    "counter = 0\n",
    "\n",
    "\n",
    "def fib(n):\n",
    "    global counter\n",
    "    fib_list = [0, 1]\n",
    "    for index in range(2, n+1):\n",
    "        counter += 1\n",
    "        nex_fib = fib_list[index-1] + fib_list[index-2]\n",
    "        fib_list.append(nex_fib)\n",
    "    return fib_list[n]\n",
    "\n",
    "\n",
    "n = 30\n",
    "print(f\"Fib of {n} = {fib(n)}\")\n",
    "\n",
    "print(f\"This function was called: {counter}\")"
   ]
  }
 ],
 "metadata": {
  "kernelspec": {
   "display_name": ".venv",
   "language": "python",
   "name": "python3"
  },
  "language_info": {
   "codemirror_mode": {
    "name": "ipython",
    "version": 3
   },
   "file_extension": ".py",
   "mimetype": "text/x-python",
   "name": "python",
   "nbconvert_exporter": "python",
   "pygments_lexer": "ipython3",
   "version": "3.12.8"
  }
 },
 "nbformat": 4,
 "nbformat_minor": 2
}
