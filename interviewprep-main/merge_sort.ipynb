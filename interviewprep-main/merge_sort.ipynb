{
 "cells": [
  {
   "cell_type": "code",
   "execution_count": 23,
   "metadata": {},
   "outputs": [
    {
     "name": "stdout",
     "output_type": "stream",
     "text": [
      "[6, 11, 12, 19, 23, 45, 89, 432, 450, 555, 565, 876, 888, 999]\n"
     ]
    }
   ],
   "source": [
    "def merge(list_a, list_b):\n",
    "    merge_list = [None] * (len(list_a) + len(list_b))\n",
    "    i = j = k = 0\n",
    "    while i < len(list_a) and j < len(list_b):\n",
    "        if list_a[i] <= list_b[j]:\n",
    "            merge_list[k] = list_a[i]\n",
    "            i += 1\n",
    "        else:\n",
    "            merge_list[k] = list_b[j]\n",
    "            j += 1\n",
    "        k += 1\n",
    "    while i < len(list_a):\n",
    "        merge_list[k] = list_a[i]\n",
    "        i += 1\n",
    "        k += 1\n",
    "    while j < len(list_b):\n",
    "        merge_list[k] = list_b[j]\n",
    "        j += 1\n",
    "        k += 1\n",
    "\n",
    "    return merge_list\n",
    "\n",
    "\n",
    "def merge_sort(n):\n",
    "    if len(n) == 1:\n",
    "        return n\n",
    "    middle = len(n) // 2\n",
    "\n",
    "    l_result = merge_sort(n[:middle])\n",
    "    r_result = merge_sort(n[middle:])\n",
    "    return merge(l_result, r_result)\n",
    "\n",
    "\n",
    "my_list_ = [876, 45, 23, 89, 12, 565, 11, 432, 555, 999, 888, 19, 450, 6]\n",
    "\n",
    "print(merge_sort(my_list_))\n",
    "\n",
    "# Time Complexity: O(nlogn)\n",
    "# Space Complexity: O(n)"
   ]
  }
 ],
 "metadata": {
  "kernelspec": {
   "display_name": ".venv",
   "language": "python",
   "name": "python3"
  },
  "language_info": {
   "codemirror_mode": {
    "name": "ipython",
    "version": 3
   },
   "file_extension": ".py",
   "mimetype": "text/x-python",
   "name": "python",
   "nbconvert_exporter": "python",
   "pygments_lexer": "ipython3",
   "version": "3.12.8"
  }
 },
 "nbformat": 4,
 "nbformat_minor": 2
}
