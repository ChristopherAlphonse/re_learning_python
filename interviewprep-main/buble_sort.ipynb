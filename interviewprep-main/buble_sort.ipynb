{
 "cells": [
  {
   "cell_type": "code",
   "execution_count": 8,
   "metadata": {},
   "outputs": [
    {
     "name": "stdout",
     "output_type": "stream",
     "text": [
      "[1, 10, 10, 12, 12, 19, 21, 23, 23, 23, 34, 45, 55, 56, 67, 87, 88, 89, 111, 232, 324, 333, 431, 432, 450, 555, 565, 654, 666, 765, 777, 784, 876, 888, 908, 999, 999, 1000]\n"
     ]
    }
   ],
   "source": [
    "def bubble_sort(arr):\n",
    "    for i in range(len(arr)):\n",
    "        for index in range(0, len(arr) - 1 - i):\n",
    "            if arr[index] > arr[index + 1]:\n",
    "                arr[index] = arr[index] ^ arr[index + 1]\n",
    "                arr[index + 1] = arr[index] ^ arr[index + 1]\n",
    "                arr[index] = arr[index] ^ arr[index + 1]\n",
    "    return arr\n",
    "\n",
    "\n",
    "n = [876, 45, 23, 89, 12, 565, 23, 1, 999, 324, 908, 87, 55, 34, 12, 10, 784, 232, 654,\n",
    "     23, 21, 765, 431, 56, 777, 10, 67, 88, 1000, 333, 111, 432, 555, 999, 888, 19, 450, 666]\n",
    "\n",
    "print(bubble_sort(n))\n",
    "# time o(n^2)"
   ]
  },
  {
   "cell_type": "code",
   "execution_count": 3,
   "metadata": {},
   "outputs": [
    {
     "name": "stdout",
     "output_type": "stream",
     "text": [
      "[3, 4, 5]\n"
     ]
    }
   ],
   "source": [
    "n = [5, 3, 4]\n",
    "\n",
    "\n",
    "def bub(n):\n",
    "    for inter in range(len(n)):\n",
    "        for i in range(0, len(n)-1-inter):\n",
    "            if n[i] > n[i + 1]:\n",
    "                n[i], n[i + 1] = n[i+1], n[i]\n",
    "    return n\n",
    "\n",
    "\n",
    "print(bub(n))"
   ]
  },
  {
   "cell_type": "markdown",
   "metadata": {},
   "source": [
    "Buble sort is base on the idea of repeatedly comparing pairs of adjacent element and the swapping their positions if they exist in the wrong order\n"
   ]
  }
 ],
 "metadata": {
  "kernelspec": {
   "display_name": ".venv",
   "language": "python",
   "name": "python3"
  },
  "language_info": {
   "codemirror_mode": {
    "name": "ipython",
    "version": 3
   },
   "file_extension": ".py",
   "mimetype": "text/x-python",
   "name": "python",
   "nbconvert_exporter": "python",
   "pygments_lexer": "ipython3",
   "version": "3.12.8"
  }
 },
 "nbformat": 4,
 "nbformat_minor": 2
}
