{
 "cells": [
  {
   "cell_type": "code",
   "execution_count": 5,
   "metadata": {},
   "outputs": [
    {
     "name": "stdout",
     "output_type": "stream",
     "text": [
      "Average sales: 3.00\n"
     ]
    }
   ],
   "source": [
    "# Computing an average.\n",
    "\n",
    "\n",
    "# Write a single statement that assigns avg_sales with the average of num_sales1, num_sales2, and num_sales3.\n",
    "\n",
    "# Sample output with inputs: 3 4 8\n",
    "# Average sales: 5.00\n",
    "\n",
    "\n",
    "avg_sales = 0\n",
    "\n",
    "num_sales1 = int(input())\n",
    "num_sales2 = int(input())\n",
    "num_sales3 = int(input())\n",
    "\n",
    "\n",
    "avg_sales = (num_sales1 + num_sales2 + + num_sales3)/3\n",
    "print(f'Average sales: {avg_sales:.2f}')"
   ]
  },
  {
   "cell_type": "code",
   "execution_count": 4,
   "metadata": {},
   "outputs": [
    {
     "name": "stdout",
     "output_type": "stream",
     "text": [
      "Sphere volume: 4.19\n"
     ]
    }
   ],
   "source": [
    "# Sphere volume.\n",
    "\n",
    "\n",
    "# Given sphere_radius and pi, write a statement to compute the volume of a sphere and assign sphere_volume with the volume. Volume of sphere = (4.0 / 3.0) π r3\n",
    "\n",
    "# Sample output with input: 1.0\n",
    "# Sphere volume: 4.19\n",
    "\n",
    "\n",
    "pi = 3.14159\n",
    "sphere_volume = 0.0\n",
    "\n",
    "sphere_radius = float(input())\n",
    "\n",
    "\n",
    "sphere_volume = (4.0 / 3.0) * (pi * (sphere_radius ** 3))\n",
    "print(f'Sphere volume: {sphere_volume:.2f}')"
   ]
  },
  {
   "cell_type": "code",
   "execution_count": 1,
   "metadata": {},
   "outputs": [
    {
     "name": "stdout",
     "output_type": "stream",
     "text": [
      "Acceleration of gravity: 399045400000000.00\n",
      "0.5\n"
     ]
    }
   ],
   "source": [
    "# Acceleration of gravity.\n",
    "\n",
    "\n",
    "# Compute the approximate acceleration of gravity for an object above the Earth's surface, assigning accel_gravity with the result. The expression for the acceleration of gravity is: (G * M) / (d 2), where G is the gravitational constant 6.673 x 10-11, M is the mass of the Earth 5.98 x 1024 (in kg), and d is the distance in meters from the Earth's center (stored in variable dist_center).\n",
    "\n",
    "# Sample output with input: 6.3782e6 (100 m above the Earth's surface at the equator)\n",
    "# Acceleration of gravity: 9.81\n",
    "\n",
    "\n",
    "G = 6.673e-11\n",
    "M = 5.98e24\n",
    "accel_gravity = 0.0\n",
    "\n",
    "dist_center = float(input())\n",
    "\n",
    "\n",
    "accel_gravity = (G * M) / (dist_center ** 2)\n",
    "\n",
    "print(f'Acceleration of gravity: {accel_gravity:.2f}')"
   ]
  },
  {
   "cell_type": "code",
   "execution_count": 7,
   "metadata": {},
   "outputs": [
    {
     "name": "stdout",
     "output_type": "stream",
     "text": [
      "88 minutes is 1 hours and 28 minutes.\n",
      " "
     ]
    }
   ],
   "source": [
    "minutes = int(input('Enter minutes:\\n'))\n",
    "hours = minutes // 60\n",
    "minutes_remaining = minutes % 60\n",
    "\n",
    "print(minutes, 'minutes is', end=' ')\n",
    "print(hours, 'hours and', end=' ')\n",
    "print(minutes_remaining, 'minutes.\\n', end=' ')"
   ]
  },
  {
   "cell_type": "markdown",
   "metadata": {},
   "source": [
    "Number game.\n",
    "\n",
    "Create a different version of the program that:\n",
    "\n",
    "    - Takes a 3-digit number and generates a 6-digit number with the 3-digit number repeated, for example, 391 becomes 391391. The rule is to multiply the 3-digit number by 7*11*13.\n",
    "    - Takes a 5-digit number and generates a 10-digit number with the 5-digit number repeated, for example, 49522 becomes 4952249522. The rule is to multiply the 5-digit number by 11*9091.\n",
    "\n",
    "Times 11: A two-digit number can be easily multiplied by 11 in one's head simply by adding the digits and inserting that sum between the digits.\n",
    "\n",
    "Example,\n",
    "78 \\* 11\n",
    "add -> (7 and 8 = 15) <- sum\n",
    "the sum between the digits is greater than 9, then the 1 is carried to the hundreds place\n",
    "remaining 5\n",
    "output: 8(tens)5(sum)8(one)\n",
    "\n",
    "Example 2:\n",
    "\n",
    "- Split the digits into tens and ones (e.g.,43 → 4 and 33).\n",
    "- Add the digits together (4+3=7).\n",
    "- Place the sum between the original digits:4(tens)+7(sum)+3(ones)=473\n"
   ]
  },
  {
   "cell_type": "code",
   "execution_count": 9,
   "metadata": {},
   "outputs": [
    {
     "name": "stdout",
     "output_type": "stream",
     "text": [
      "100001\n"
     ]
    }
   ],
   "source": [
    "num_in_tens = int(input('Enter the tens digit:\\n'))\n",
    "num_in_ones = int(input('Enter the ones digit:\\n'))\n",
    "\n",
    "# Combine the digits to form the 2-digit number\n",
    "num_in = num_in_tens * 10 + num_in_ones\n",
    "\n",
    "print('You entered', num_in)\n",
    "print(num_in, '* 11 is', num_in * 11)\n",
    "\n",
    "# Calculate the resulting digits\n",
    "sum_tens_ones = num_in_tens + num_in_ones\n",
    "\n",
    "# Determine the digits of the output\n",
    "num_out_hundreds = num_in_tens + (sum_tens_ones // 10)  # Carry over if needed\n",
    "num_out_tens = sum_tens_ones % 10  # The middle digit is the sum modulo 10\n",
    "num_out_ones = num_in_ones  # The last digit remains the same\n",
    "\n",
    "# Display the mental math explanation\n",
    "print('An easy mental way to find the answer is:')\n",
    "print(num_in_tens, ',', num_in_tens, '+', num_in_ones, ',', num_in_ones)\n",
    "\n",
    "# Build num_out from its digits\n",
    "num_out = str(num_out_hundreds) + str(num_out_tens) + str(num_out_ones)\n",
    "\n",
    "# Print the constructed number\n",
    "print('Constructed result:', num_out)"
   ]
  }
 ],
 "metadata": {
  "kernelspec": {
   "display_name": ".venv",
   "language": "python",
   "name": "python3"
  },
  "language_info": {
   "codemirror_mode": {
    "name": "ipython",
    "version": 3
   },
   "file_extension": ".py",
   "mimetype": "text/x-python",
   "name": "python",
   "nbconvert_exporter": "python",
   "pygments_lexer": "ipython3",
   "version": "3.12.8"
  }
 },
 "nbformat": 4,
 "nbformat_minor": 2
}
