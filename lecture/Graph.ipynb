{
 "cells": [
  {
   "cell_type": "code",
   "execution_count": 18,
   "metadata": {},
   "outputs": [
    {
     "data": {
      "text/plain": [
       "['A', 'B', 'E', 'F', 'C', 'D', 'G']"
      ]
     },
     "execution_count": 18,
     "metadata": {},
     "output_type": "execute_result"
    }
   ],
   "source": [
    "from collections import deque\n",
    "\n",
    "\n",
    "class Node:\n",
    "    def __init__(self, value):\n",
    "        self.value = value\n",
    "        self.adjacent_list = []\n",
    "        self.visited = False\n",
    "\n",
    "\n",
    "class Graph():\n",
    "    def BFS(self, node):\n",
    "        queue = deque()\n",
    "        queue.append(node)\n",
    "        node.visited = True\n",
    "        traversal = []\n",
    "\n",
    "        while queue:\n",
    "            current_node = queue.popleft()\n",
    "            traversal.append(current_node.value)\n",
    "            for adjacent in current_node.adjacent_list:\n",
    "                if not adjacent.visited:\n",
    "                    queue.append(adjacent)\n",
    "                    adjacent.visited = True\n",
    "\n",
    "        return traversal\n",
    "\n",
    "    def DFS(self, node, traversal):\n",
    "        node.visited = True\n",
    "        traversal.append(node.value)\n",
    "\n",
    "        for adjacent_element in node.adjacent_list:\n",
    "            if not adjacent_element.visited:\n",
    "                self.DFS(adjacent_element, traversal)\n",
    "        return traversal\n",
    "\n",
    "\n",
    "node1 = Node(\"A\")\n",
    "node2 = Node(\"B\")\n",
    "node3 = Node(\"C\")\n",
    "node4 = Node(\"D\")\n",
    "node5 = Node(\"E\")\n",
    "node6 = Node(\"F\")\n",
    "node7 = Node(\"G\")\n",
    "\n",
    "node1.adjacent_list.append(node2)\n",
    "node1.adjacent_list.append(node3)\n",
    "node1.adjacent_list.append(node4)\n",
    "\n",
    "node2.adjacent_list.append(node5)\n",
    "node2.adjacent_list.append(node6)\n",
    "\n",
    "node4.adjacent_list.append(node7)\n",
    "\n",
    "node3.adjacent_list.append(node1)\n",
    "\n",
    "\n",
    "graph = Graph()\n",
    "# graph.BFS(node1)\n",
    "graph.DFS(node1, [])"
   ]
  },
  {
   "cell_type": "markdown",
   "metadata": {},
   "source": [
    "# Big 0\n",
    "\n",
    "Adjacency Matrix : O(v^2)\n",
    "Adjacency List: O (V + E)\n",
    "\n",
    "[UMD Big O DFS](https://www.cs.umd.edu/class/summer2017/cmsc132/discussions/cmsc132-BigO-DFS.pdf)\n",
    "[DSA Visualize](https://visualgo.net/en)\n"
   ]
  }
 ],
 "metadata": {
  "kernelspec": {
   "display_name": ".venv",
   "language": "python",
   "name": "python3"
  },
  "language_info": {
   "codemirror_mode": {
    "name": "ipython",
    "version": 3
   },
   "file_extension": ".py",
   "mimetype": "text/x-python",
   "name": "python",
   "nbconvert_exporter": "python",
   "pygments_lexer": "ipython3",
   "version": "3.12.8"
  }
 },
 "nbformat": 4,
 "nbformat_minor": 2
}
