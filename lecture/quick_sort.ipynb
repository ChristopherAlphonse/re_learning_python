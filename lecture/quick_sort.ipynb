{
 "cells": [
  {
   "cell_type": "code",
   "execution_count": 77,
   "metadata": {},
   "outputs": [
    {
     "name": "stdout",
     "output_type": "stream",
     "text": [
      "[1, 10, 10, 12, 12, 19, 21, 23, 23, 23, 34, 45, 55, 56, 67, 87, 88, 89, 111, 232, 324, 333, 431, 432, 450, 555, 565, 654, 666, 765, 777, 784, 876, 888, 908, 999, 999, 1000]\n"
     ]
    }
   ],
   "source": [
    "def swap(arr, low, end):\n",
    "    arr[low], arr[end] = arr[end], arr[low]\n",
    "\n",
    "\n",
    "def pivot(arr, pivot_index, end_index):\n",
    "    swap_index = pivot_index\n",
    "\n",
    "    for i in range(pivot_index + 1, end_index + 1):\n",
    "        current = arr[i]\n",
    "        if current < arr[pivot_index]:\n",
    "            swap_index += 1\n",
    "            # this swap here with sort the right side with the bigger numbers\n",
    "            swap(arr, swap_index, i)\n",
    "    # this will swap pivot with the middle index that create a partition or smaller values on the left and all bigger value to the right of thr partition:\n",
    "    swap(arr, pivot_index, swap_index)\n",
    "    # [4, 6, 1, 7, 3, 2, 5] -> [2, 1, 3, 4, 6, 7, 5]\n",
    "    return swap_index\n",
    "\n",
    "\n",
    "def quick_sort_helper(arr, left, right):\n",
    "    # recursion base case\n",
    "    if left < right:\n",
    "        pivot_index = pivot(arr, left, right)\n",
    "        # left side of the list\n",
    "        quick_sort_helper(arr, left, pivot_index - 1)\n",
    "        # right side of the list\n",
    "        quick_sort_helper(arr, pivot_index + 1, right)\n",
    "        return arr\n",
    "\n",
    "\n",
    "def quick_sort(my_list):\n",
    "    return quick_sort_helper(my_list, 0, len(my_list)-1)\n",
    "\n",
    "\n",
    "arr = [876, 45, 23, 89, 12, 565, 23, 1, 999, 324, 908, 87, 55, 34, 12, 10, 784, 232, 654,\n",
    "       23, 21, 765, 431, 56, 777, 10, 67, 88, 1000, 333, 111, 432, 555, 999, 888, 19, 450, 666]\n",
    "print(quick_sort(arr))"
   ]
  },
  {
   "cell_type": "code",
   "execution_count": null,
   "metadata": {},
   "outputs": [],
   "source": []
  }
 ],
 "metadata": {
  "kernelspec": {
   "display_name": ".venv",
   "language": "python",
   "name": "python3"
  },
  "language_info": {
   "codemirror_mode": {
    "name": "ipython",
    "version": 3
   },
   "file_extension": ".py",
   "mimetype": "text/x-python",
   "name": "python",
   "nbconvert_exporter": "python",
   "pygments_lexer": "ipython3",
   "version": "3.12.8"
  }
 },
 "nbformat": 4,
 "nbformat_minor": 2
}
