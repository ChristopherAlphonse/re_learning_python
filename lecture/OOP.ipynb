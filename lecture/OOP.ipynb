{
 "cells": [
  {
   "cell_type": "code",
   "execution_count": 6,
   "metadata": {},
   "outputs": [
    {
     "name": "stdout",
     "output_type": "stream",
     "text": [
      "A init method\n",
      "C init method\n",
      "Feature 1\n"
     ]
    }
   ],
   "source": [
    "# Constructor inheritance\n",
    "class A:\n",
    "    def __init__(self):\n",
    "        print(\"A init method\")\n",
    "\n",
    "    def feat1(self):\n",
    "        print(\"Feature 1\")\n",
    "\n",
    "    def feat2(self):\n",
    "        print(\"Feature 2\")\n",
    "\n",
    "\n",
    "class B:\n",
    "    def __init__(self):\n",
    "        print(\"B init method\")\n",
    "\n",
    "    def feat3(self):\n",
    "        print(\"Feature 3\")\n",
    "\n",
    "    def feat4(self):\n",
    "        print(\"Feature 4\")\n",
    "\n",
    "\n",
    "class C(A, B):\n",
    "    def __init__(self):\n",
    "        # super execute left to right, and will call for class A init method\n",
    "        super().__init__()\n",
    "        print(\"C init method\")\n",
    "\n",
    "    def feat5(self):\n",
    "        print(\"Feature 5\")\n",
    "\n",
    "    def feat6(self):\n",
    "        print(\"Feature 6\")\n",
    "\n",
    "\n",
    "c1 = C()\n",
    "c1.feat1()"
   ]
  },
  {
   "cell_type": "code",
   "execution_count": 32,
   "metadata": {},
   "outputs": [
    {
     "name": "stdout",
     "output_type": "stream",
     "text": [
      "$74.18\n"
     ]
    }
   ],
   "source": [
    "# Encapsulation\n",
    "\n",
    "class Payment:\n",
    "    def __init__(self, price):\n",
    "        price += price * 0.099\n",
    "        self.__final_price = price\n",
    "\n",
    "    def get_final_price(self):\n",
    "        return '${:,.2f}'.format(self.__final_price)\n",
    "\n",
    "    def __calculate_discount(self, discount):\n",
    "        return self.__final_price - (self.__final_price * (discount / 100))\n",
    "\n",
    "    def set_final_price(self, discount):\n",
    "        self.__final_price = self.__calculate_discount(discount)\n",
    "\n",
    "\n",
    "payment = Payment(90)\n",
    "payment.set_final_price(25)\n",
    "print(payment.get_final_price())"
   ]
  },
  {
   "cell_type": "markdown",
   "metadata": {},
   "source": [
    "# Requirements\n",
    "\n",
    "### FURPS+ is a framework for classifying requirements that uses an acronym to represent five categories:\n",
    "\n",
    "- Functionality\n",
    "  The core of what the customer wants, including security-related needs\n",
    "- Usability\n",
    "  How effective the product is for the user, including the user interface, documentation, and aesthetics\n",
    "- Reliability\n",
    "  How much system downtime is acceptable, how predictable failures are, and how the system recovers\n",
    "- Performance\n",
    "  How fast the application is, its response time, throughput, and memory consumption\n",
    "- Supportability\n",
    "\n",
    "### Whether the application can be tested, extended, serviced, installed, configured, and monitored\n",
    "\n",
    "The plus sign in FURPS+ indicates the addition of design constraints, implementation, interface, physical, and supportability requirements. The model was developed at Hewlett-Packard and is now widely used in the software industry.\n"
   ]
  },
  {
   "cell_type": "markdown",
   "metadata": {},
   "source": [
    "### Functional\n",
    "\n",
    "- The program must do\n",
    "\n",
    "### Non-Functional\n",
    "\n",
    "- The program should be\n"
   ]
  },
  {
   "cell_type": "markdown",
   "metadata": {},
   "source": [
    "# Use Case and user story\n",
    "\n",
    "Title: Keep it short and concise\n",
    "Primary Actor: Can be anyone, not just a user. An actor can be another computer or anything that lives outside of the application but interacts with it to accomplish some goal.\n",
    "Success Scenario: Essentially our end-to-end (E2E) test\n",
    "\n",
    "Ex. Astronaut microwave system\n",
    "\n",
    "---\n",
    "\n",
    "Title: Heat Meal\n",
    "Primary Actor: Astronaut\n",
    "Success Scenario:\n",
    "\n",
    "- Astronaut inserts meal package.\n",
    "- System identifies type of meal.\n",
    "- System heats package for length of time required for meal type.\n",
    "- System notifies astronaut that meal is ready via space pager.\n",
    "- Astronaut remove package from system.\n"
   ]
  }
 ],
 "metadata": {
  "kernelspec": {
   "display_name": ".venv",
   "language": "python",
   "name": "python3"
  },
  "language_info": {
   "codemirror_mode": {
    "name": "ipython",
    "version": 3
   },
   "file_extension": ".py",
   "mimetype": "text/x-python",
   "name": "python",
   "nbconvert_exporter": "python",
   "pygments_lexer": "ipython3",
   "version": "3.12.8"
  }
 },
 "nbformat": 4,
 "nbformat_minor": 2
}
