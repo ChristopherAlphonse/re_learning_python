{
 "cells": [
  {
   "cell_type": "code",
   "execution_count": 6,
   "metadata": {},
   "outputs": [
    {
     "name": "stdout",
     "output_type": "stream",
     "text": [
      "A init method\n",
      "C init method\n",
      "Feature 1\n"
     ]
    }
   ],
   "source": [
    "# Constructor inheritance\n",
    "class A:\n",
    "    def __init__(self):\n",
    "        print(\"A init method\")\n",
    "\n",
    "    def feat1(self):\n",
    "        print(\"Feature 1\")\n",
    "\n",
    "    def feat2(self):\n",
    "        print(\"Feature 2\")\n",
    "\n",
    "\n",
    "class B:\n",
    "    def __init__(self):\n",
    "        print(\"B init method\")\n",
    "\n",
    "    def feat3(self):\n",
    "        print(\"Feature 3\")\n",
    "\n",
    "    def feat4(self):\n",
    "        print(\"Feature 4\")\n",
    "\n",
    "\n",
    "class C(A, B):\n",
    "    def __init__(self):\n",
    "        # super execute left to right, and will call for class A init method\n",
    "        super().__init__()\n",
    "        print(\"C init method\")\n",
    "\n",
    "    def feat5(self):\n",
    "        print(\"Feature 5\")\n",
    "\n",
    "    def feat6(self):\n",
    "        print(\"Feature 6\")\n",
    "\n",
    "\n",
    "c1 = C()\n",
    "c1.feat1()"
   ]
  }
 ],
 "metadata": {
  "kernelspec": {
   "display_name": ".venv",
   "language": "python",
   "name": "python3"
  },
  "language_info": {
   "codemirror_mode": {
    "name": "ipython",
    "version": 3
   },
   "file_extension": ".py",
   "mimetype": "text/x-python",
   "name": "python",
   "nbconvert_exporter": "python",
   "pygments_lexer": "ipython3",
   "version": "3.12.8"
  }
 },
 "nbformat": 4,
 "nbformat_minor": 2
}
