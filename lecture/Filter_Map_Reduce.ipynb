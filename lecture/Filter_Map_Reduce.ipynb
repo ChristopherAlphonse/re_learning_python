{
 "cells": [
  {
   "cell_type": "code",
   "execution_count": 3,
   "metadata": {},
   "outputs": [
    {
     "name": "stdout",
     "output_type": "stream",
     "text": [
      "[2, 4, 6, 8]\n"
     ]
    }
   ],
   "source": [
    "# exercise use lambda and filter\n",
    "nums = [1, 2, 3, 4, 5, 6, 7, 8, 9]\n",
    "\n",
    "evenList = list(filter(lambda n: n % 2 == 0, nums))\n",
    "\n",
    "print(evenList)"
   ]
  },
  {
   "cell_type": "code",
   "execution_count": 13,
   "metadata": {},
   "outputs": [
    {
     "name": "stdout",
     "output_type": "stream",
     "text": [
      "double all the values in a list [4, 8, 12, 16]\n"
     ]
    }
   ],
   "source": [
    "# exercise use lambda and map\n",
    "\n",
    "from functools import reduce\n",
    "\n",
    "\n",
    "nums = [1, 2, 3, 4, 5, 6, 7, 8, 9]\n",
    "\n",
    "evenList = list(filter(lambda n: n % 2 == 0, nums))\n",
    "doubledList = list(map(lambda a: a*2, evenList))\n",
    "print(\"double all the values in a list\", doubledList)"
   ]
  },
  {
   "cell_type": "code",
   "execution_count": 15,
   "metadata": {},
   "outputs": [
    {
     "name": "stdout",
     "output_type": "stream",
     "text": [
      "The sum of double list 40\n",
      "40\n"
     ]
    }
   ],
   "source": [
    "# exercise use lambda and reduce\n",
    "\n",
    "from functools import reduce\n",
    "\n",
    "\n",
    "nums = [1, 2, 3, 4, 5, 6, 7, 8, 9]\n",
    "\n",
    "evenList = list(filter(lambda n: n % 2 == 0, nums))\n",
    "doubledList = list(map(lambda a: a*2, evenList))\n",
    "my_sum = reduce(lambda x, n: x+n, doubledList)\n",
    "print(\"The sum of double list\", my_sum)\n",
    "print(sum(doubledList))"
   ]
  },
  {
   "cell_type": "code",
   "execution_count": null,
   "metadata": {},
   "outputs": [],
   "source": []
  }
 ],
 "metadata": {
  "kernelspec": {
   "display_name": ".venv",
   "language": "python",
   "name": "python3"
  },
  "language_info": {
   "codemirror_mode": {
    "name": "ipython",
    "version": 3
   },
   "file_extension": ".py",
   "mimetype": "text/x-python",
   "name": "python",
   "nbconvert_exporter": "python",
   "pygments_lexer": "ipython3",
   "version": "3.12.8"
  }
 },
 "nbformat": 4,
 "nbformat_minor": 2
}
