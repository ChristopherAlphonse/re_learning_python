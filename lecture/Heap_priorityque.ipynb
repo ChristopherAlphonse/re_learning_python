{
 "cells": [
  {
   "cell_type": "code",
   "execution_count": 7,
   "metadata": {},
   "outputs": [
    {
     "data": {
      "text/plain": [
       "[-4, 0, 1, 3, 2, 5, 10, 8, 12, 9]"
      ]
     },
     "execution_count": 7,
     "metadata": {},
     "output_type": "execute_result"
    }
   ],
   "source": [
    "# Build min Heap (Heapify) from a list of elements\n",
    "# Time complexity: O(n∗lg(n)) since each call to Heapify costs O(lg(n)) and Build-Heap makes O(n) such calls.\n",
    "# space complexity: O(1)\n",
    "\n",
    "import heapq\n",
    "A = [-4, 3, 1, 0, 2, 5, 10, 8, 12, 9]\n",
    "\n",
    "\n",
    "heapq.heapify(A)\n",
    "\n",
    "A"
   ]
  },
  {
   "cell_type": "code",
   "execution_count": 8,
   "metadata": {},
   "outputs": [
    {
     "data": {
      "text/plain": [
       "[-4, 0, 1, 3, 2, 5, 10, 8, 12, 9, 4]"
      ]
     },
     "execution_count": 8,
     "metadata": {},
     "output_type": "execute_result"
    }
   ],
   "source": [
    "# insert element\n",
    "# time 0(log(n))\n",
    "\n",
    "heapq.heappush(A, 4)\n",
    "\n",
    "A"
   ]
  },
  {
   "cell_type": "code",
   "execution_count": 9,
   "metadata": {},
   "outputs": [
    {
     "data": {
      "text/plain": [
       "([0, 2, 1, 3, 4, 5, 10, 8, 12, 9], -4)"
      ]
     },
     "execution_count": 9,
     "metadata": {},
     "output_type": "execute_result"
    }
   ],
   "source": [
    "# heap pop (extract min)\n",
    "minn = heapq.heappop(A)\n",
    "\n",
    "A, minn"
   ]
  },
  {
   "cell_type": "code",
   "execution_count": 18,
   "metadata": {},
   "outputs": [
    {
     "data": {
      "text/plain": [
       "[-12, -5, -4, -1, 0, 2, 3, 8, 9, 10]"
      ]
     },
     "execution_count": 18,
     "metadata": {},
     "output_type": "execute_result"
    }
   ],
   "source": [
    "# heap sort\n",
    "\n",
    "# time complexity: O(nlog(n)) space complexity: O(n)\n",
    "\n",
    "def heap_sort(n):\n",
    "    heapq.heapify(n)\n",
    "    arr_len = len(n)\n",
    "    new_list = [0] * arr_len\n",
    "\n",
    "    for i in range(arr_len):\n",
    "        minn = heapq.heappop(n)\n",
    "        new_list[i] = minn\n",
    "    return new_list\n",
    "\n",
    "\n",
    "B = [-4, 3, -1, 0, 2, -5, 10, 8, -12, 9]\n",
    "heap_sort(B)"
   ]
  },
  {
   "cell_type": "code",
   "execution_count": 23,
   "metadata": {},
   "outputs": [
    {
     "data": {
      "text/plain": [
       "[-1, 3, -5, 0, 2, 55, 10, 8, -12, 9]"
      ]
     },
     "execution_count": 23,
     "metadata": {},
     "output_type": "execute_result"
    }
   ],
   "source": [
    "# heap push pop\n",
    "B = [-4, 3, -1, 0, 2, -5, 10, 8, -12, 9]\n",
    "heapq.heappushpop(B, 55)\n",
    "B"
   ]
  },
  {
   "cell_type": "code",
   "execution_count": 8,
   "metadata": {},
   "outputs": [
    {
     "name": "stdout",
     "output_type": "stream",
     "text": [
      "10\n",
      "9\n",
      "8\n",
      "3\n",
      "2\n",
      "0\n",
      "-1\n",
      "-4\n",
      "-5\n",
      "-12\n"
     ]
    }
   ],
   "source": [
    "# max heap\n",
    "\n",
    "import heapq\n",
    "\n",
    "B = [-4, 3, -1, 0, 2, -5, 10, 8, -12, 9]\n",
    "n = len(B)\n",
    "\n",
    "for i in range(n):\n",
    "    B[i] = -B[i]\n",
    "\n",
    "heapq.heapify(B)\n",
    "for _ in range(n):\n",
    "    largest = -heapq.heappop(B)\n",
    "    print(largest)"
   ]
  },
  {
   "cell_type": "markdown",
   "metadata": {},
   "source": []
  }
 ],
 "metadata": {
  "kernelspec": {
   "display_name": ".venv",
   "language": "python",
   "name": "python3"
  },
  "language_info": {
   "codemirror_mode": {
    "name": "ipython",
    "version": 3
   },
   "file_extension": ".py",
   "mimetype": "text/x-python",
   "name": "python",
   "nbconvert_exporter": "python",
   "pygments_lexer": "ipython3",
   "version": "3.12.8"
  }
 },
 "nbformat": 4,
 "nbformat_minor": 2
}
