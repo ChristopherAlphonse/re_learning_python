{
 "cells": [
  {
   "cell_type": "code",
   "execution_count": 18,
   "metadata": {},
   "outputs": [
    {
     "name": "stdout",
     "output_type": "stream",
     "text": [
      "Before any operation: 140737230072536\n",
      "n is: 8\n",
      "After any operation: 140737230072472\n",
      "address for x: 140737230072536\n"
     ]
    }
   ],
   "source": [
    "def update(n):\n",
    "    print(f\"Before any operation: {id(n)}\")\n",
    "    # pointing at the same address\n",
    "    n = 8\n",
    "\n",
    "    print(\"n is:\", n)\n",
    "    # no longer the same address, because int are immutable\n",
    "    print(f\"After any operation: {id(n)}\")\n",
    "\n",
    "\n",
    "x = 10\n",
    "update(x)\n",
    "print(\"address for x:\", id(x))\n",
    "\n",
    "\n",
    "# python does not past by value nor pass by reference"
   ]
  },
  {
   "cell_type": "code",
   "execution_count": 17,
   "metadata": {},
   "outputs": [
    {
     "name": "stdout",
     "output_type": "stream",
     "text": [
      "Before any operation: 1346899613888\n",
      "Value is updated: [5, 2, 3]\n",
      "The address now: 1346899613888\n",
      "address: 1346899613888\n"
     ]
    }
   ],
   "source": [
    "def my_sum(a):\n",
    "    print(f\"Before any operation: {id(a)}\")\n",
    "\n",
    "    a[0] = 5\n",
    "    print(\"Value is updated:\", a)\n",
    "    print(\"The address now:\", id(a))\n",
    "    # list are are mutable so it return the same address, same list, with the updated values\n",
    "\n",
    "\n",
    "a = [1, 2, 3]\n",
    "my_sum(a)\n",
    "print(\"address:\", id(a))"
   ]
  },
  {
   "cell_type": "code",
   "execution_count": 2,
   "metadata": {},
   "outputs": [
    {
     "name": "stdout",
     "output_type": "stream",
     "text": [
      "['Accra', 'Anaheim', 'Bangkok', 'Bend', 'Boise', 'Buenos Aires', 'Cairo', 'Edmonton', 'Lima', 'London', 'Memphis', 'Orlando', 'Paris', 'Seoul', 'Tokyo', 'Vancouver', 'Zurich']\n"
     ]
    }
   ],
   "source": []
  }
 ],
 "metadata": {
  "kernelspec": {
   "display_name": ".venv",
   "language": "python",
   "name": "python3"
  },
  "language_info": {
   "codemirror_mode": {
    "name": "ipython",
    "version": 3
   },
   "file_extension": ".py",
   "mimetype": "text/x-python",
   "name": "python",
   "nbconvert_exporter": "python",
   "pygments_lexer": "ipython3",
   "version": "3.12.8"
  }
 },
 "nbformat": 4,
 "nbformat_minor": 2
}
