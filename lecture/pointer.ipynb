{
 "cells": [
  {
   "cell_type": "markdown",
   "metadata": {},
   "source": [
    "When a variable is assigned to a value and another variable is assigned to that first variable, does the second variable point to the same object in memory, or is it a copy of the original value?\n"
   ]
  },
  {
   "cell_type": "code",
   "execution_count": 5,
   "metadata": {},
   "outputs": [
    {
     "name": "stdout",
     "output_type": "stream",
     "text": [
      "before value is update:\n",
      "num1=11\n",
      "\n",
      "num2=11\n",
      "\n",
      "num1 point to:140733344508664\n",
      "num2 point to:140733344508664\n",
      "New address\n",
      "num1 point to now:140733344508824\n"
     ]
    }
   ],
   "source": [
    "# INT\n",
    "num1 = 11\n",
    "num2 = num1\n",
    "\n",
    "print(\"before value is update:\")\n",
    "print(f\"num1={num1}\\n\")\n",
    "print(f\"num2={num2}\\n\")\n",
    "\n",
    "# use id to return the object address in memory.\n",
    "print(f\"num1 point to:{id(num1)}\")\n",
    "print(f\"num2 point to:{id(num2)}\")\n",
    "\n",
    "\n",
    "print(\"New address\")\n",
    "num1 += 5\n",
    "print(f\"num1 point to now:{id(num1)}\")\n",
    "\n",
    "\n",
    "# Conclusion:\n",
    "# int are immutable, and when the value changed it returns a new object, and address"
   ]
  },
  {
   "cell_type": "code",
   "execution_count": 8,
   "metadata": {},
   "outputs": [
    {
     "name": "stdout",
     "output_type": "stream",
     "text": [
      "Before value is updated:\n",
      "dict1:{'myKey': 'myValue'}\n",
      "dict2:{'myKey': 'myValue'}\n",
      "dict1 points to: 2252004984960\n",
      "dict2 points to: 2252004984960\n",
      "The value has been updated:\n",
      "dict1= : {'myKey': 'Hello'}\n",
      "dict2= {'myKey': 'Hello'}\n",
      "dict1 points to: 2252004984960\n",
      "dict2 points to: 2252004984960\n"
     ]
    }
   ],
   "source": [
    "# Dictionary\n",
    "dict1 = {\n",
    "    \"myKey\": \"myValue\"\n",
    "}\n",
    "# Assign dict1 to dict2, both now reference the same dictionary object\n",
    "dict2 = dict1\n",
    "\n",
    "print(\"Before value is updated:\")\n",
    "print(f\"dict1: {dict1}\")\n",
    "print(f\"dict2: {dict2}\")\n",
    "\n",
    "# Print memory addresses to show both variables point to the same object\n",
    "print(f\"dict1 points to: {id(dict1)}\")\n",
    "print(f\"dict2 points to: {id(dict2)}\")\n",
    "\n",
    "# Update the value of \"myKey\" in dict2\n",
    "dict2[\"myKey\"] = \"Hello\"\n",
    "\n",
    "# Print the dictionaries and their memory addresses after the update\n",
    "print(\"The value has been updated:\")\n",
    "print(f\"dict1: {dict1}\")\n",
    "print(f\"dict2: {dict2}\")\n",
    "\n",
    "# Confirm that both variables still point to the same object\n",
    "print(f\"dict1 points to: {id(dict1)}\")\n",
    "print(f\"dict2 points to: {id(dict2)}\")"
   ]
  }
 ],
 "metadata": {
  "kernelspec": {
   "display_name": ".venv",
   "language": "python",
   "name": "python3"
  },
  "language_info": {
   "codemirror_mode": {
    "name": "ipython",
    "version": 3
   },
   "file_extension": ".py",
   "mimetype": "text/x-python",
   "name": "python",
   "nbconvert_exporter": "python",
   "pygments_lexer": "ipython3",
   "version": "3.12.8"
  }
 },
 "nbformat": 4,
 "nbformat_minor": 2
}
