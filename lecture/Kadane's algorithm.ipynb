{
 "cells": [
  {
   "cell_type": "markdown",
   "metadata": {},
   "source": [
    "Kadane's algorithm\n"
   ]
  },
  {
   "cell_type": "code",
   "execution_count": 2,
   "metadata": {},
   "outputs": [
    {
     "name": "stdout",
     "output_type": "stream",
     "text": [
      "55\n"
     ]
    }
   ],
   "source": [
    "def max_subarray(numbers):\n",
    "    \"\"\"Find the largest sum of any contiguous subarray.\"\"\"\n",
    "    best_sum = float('-inf')\n",
    "    current_sum = 0\n",
    "    for x in numbers:\n",
    "        current_sum = max(x, current_sum + x)\n",
    "        best_sum = max(best_sum, current_sum)\n",
    "    return best_sum\n",
    "# curr = 0, 1, 13, 8, 2, 52, 55\n",
    "# best = -inf, 1, 12, 13, 52, 55\n",
    "\n",
    "\n",
    "nums = [1, 12, -5, -6, 50, 3]\n",
    "print(max_subarray(nums))"
   ]
  }
 ],
 "metadata": {
  "kernelspec": {
   "display_name": ".venv",
   "language": "python",
   "name": "python3"
  },
  "language_info": {
   "codemirror_mode": {
    "name": "ipython",
    "version": 3
   },
   "file_extension": ".py",
   "mimetype": "text/x-python",
   "name": "python",
   "nbconvert_exporter": "python",
   "pygments_lexer": "ipython3",
   "version": "3.12.8"
  }
 },
 "nbformat": 4,
 "nbformat_minor": 2
}
