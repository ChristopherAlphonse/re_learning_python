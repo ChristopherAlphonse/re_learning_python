{
 "cells": [
  {
   "cell_type": "code",
   "execution_count": 1,
   "metadata": {},
   "outputs": [
    {
     "name": "stdout",
     "output_type": "stream",
     "text": [
      "Hi There\n",
      "Hello\n",
      "Hi There\n",
      "Hello\n",
      "Hi There\n",
      "Hello\n",
      "Hi There\n",
      "Hello\n",
      "Hi There\n",
      "Hello\n",
      "Hi There\n",
      "Hello\n",
      "Hi There\n",
      "Hello\n",
      "Hi There\n",
      "Hello\n",
      "Hi There\n",
      "Hello\n",
      "Hi There\n",
      "Hello\n",
      "done\n"
     ]
    }
   ],
   "source": [
    "from time import sleep\n",
    "from threading import Thread\n",
    "\n",
    "ranged = 10\n",
    "timed = 1\n",
    "\n",
    "\n",
    "class Hello(Thread):\n",
    "    def run(self):\n",
    "        for i in range(ranged):\n",
    "            print(\"Hello\")\n",
    "            sleep(timed)\n",
    "\n",
    "\n",
    "class Hi(Thread):\n",
    "    def run(self):\n",
    "        for i in range(ranged):\n",
    "            print(\"Hi There\")\n",
    "            sleep(timed)\n",
    "\n",
    "\n",
    "hi = Hi()\n",
    "hello = Hello()\n",
    "\n",
    "\n",
    "# start() will will the run() method internally from Thread\n",
    "hi.start()\n",
    "# reduce collision, small range will not collide but with a range pass 100+ weird collision will happen as the CPU will try  to execute as many threads as possible\n",
    "sleep(0.5)\n",
    "hello.start()\n",
    "\n",
    "# await for  parallel process to complete\n",
    "hi.join()\n",
    "hello.join()\n",
    "print(\"done\")"
   ]
  }
 ],
 "metadata": {
  "kernelspec": {
   "display_name": ".venv",
   "language": "python",
   "name": "python3"
  },
  "language_info": {
   "codemirror_mode": {
    "name": "ipython",
    "version": 3
   },
   "file_extension": ".py",
   "mimetype": "text/x-python",
   "name": "python",
   "nbconvert_exporter": "python",
   "pygments_lexer": "ipython3",
   "version": "3.12.8"
  }
 },
 "nbformat": 4,
 "nbformat_minor": 2
}
