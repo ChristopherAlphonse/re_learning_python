{
 "cells": [
  {
   "cell_type": "markdown",
   "metadata": {},
   "source": [
    "Insertion sort is an in-place comparison-based sorting algorithm, that places an unsorted element at its suitable place in each iteration\n",
    "\n",
    "Space: 0(N)\n",
    "Time: 0(N^2)\n"
   ]
  },
  {
   "cell_type": "code",
   "execution_count": 28,
   "metadata": {},
   "outputs": [
    {
     "name": "stdout",
     "output_type": "stream",
     "text": [
      "[-2, 1, 3, 5, 9]\n"
     ]
    }
   ],
   "source": [
    "def insertion_sort(arr):\n",
    "    for i in range(len(arr)):\n",
    "        for last in range(i, 0, -1):\n",
    "            if arr[last-1] > arr[last]:\n",
    "                arr[last-1], arr[last] = arr[last], arr[last-1]\n",
    "            else:\n",
    "                break\n",
    "\n",
    "\n",
    "arr = [9, 1, -2, 5, 3]\n",
    "insertion_sort(arr)\n",
    "print(arr)"
   ]
  }
 ],
 "metadata": {
  "kernelspec": {
   "display_name": ".venv",
   "language": "python",
   "name": "python3"
  },
  "language_info": {
   "codemirror_mode": {
    "name": "ipython",
    "version": 3
   },
   "file_extension": ".py",
   "mimetype": "text/x-python",
   "name": "python",
   "nbconvert_exporter": "python",
   "pygments_lexer": "ipython3",
   "version": "3.12.8"
  }
 },
 "nbformat": 4,
 "nbformat_minor": 2
}
