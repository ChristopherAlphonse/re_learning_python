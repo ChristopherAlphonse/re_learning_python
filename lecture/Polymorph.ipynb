{
 "cells": [
  {
   "cell_type": "code",
   "execution_count": 13,
   "metadata": {},
   "outputs": [
    {
     "name": "stdout",
     "output_type": "stream",
     "text": [
      "compiling code\n",
      "Running code\n",
      "\n",
      "Spell checking\n",
      "Linting\n",
      "Compiling code\n",
      "Running code\n"
     ]
    }
   ],
   "source": [
    "# Duck typing\n",
    "\n",
    "class PyCharm:\n",
    "    def execute(self):\n",
    "        print(\"compiling code\")\n",
    "        print(\"Running code\")\n",
    "\n",
    "\n",
    "class VScode:\n",
    "    def execute(self):\n",
    "        print()\n",
    "        print(\"Spell checking\")\n",
    "        print(\"Linting\")\n",
    "        print(\"Compiling code\")\n",
    "        print(\"Running code\")\n",
    "\n",
    "\n",
    "class Laptop:\n",
    "    def code(self, env):\n",
    "        env.execute()  # user defined method\n",
    "\n",
    "\n",
    "IDE = PyCharm()\n",
    "user_laptop = Laptop()\n",
    "user_laptop.code(IDE)\n",
    "\n",
    "\n",
    "IDE2 = VScode()\n",
    "user_laptop2 = Laptop()\n",
    "user_laptop2.code(IDE2)"
   ]
  },
  {
   "cell_type": "code",
   "execution_count": null,
   "metadata": {},
   "outputs": [],
   "source": []
  }
 ],
 "metadata": {
  "kernelspec": {
   "display_name": ".venv",
   "language": "python",
   "name": "python3"
  },
  "language_info": {
   "codemirror_mode": {
    "name": "ipython",
    "version": 3
   },
   "file_extension": ".py",
   "mimetype": "text/x-python",
   "name": "python",
   "nbconvert_exporter": "python",
   "pygments_lexer": "ipython3",
   "version": "3.12.8"
  }
 },
 "nbformat": 4,
 "nbformat_minor": 2
}
