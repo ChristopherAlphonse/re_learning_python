{
 "cells": [
  {
   "cell_type": "code",
   "execution_count": 9,
   "metadata": {},
   "outputs": [
    {
     "name": "stdout",
     "output_type": "stream",
     "text": [
      "My name is, Rondo!\n",
      "Titanium 4xzbr1\n"
     ]
    },
    {
     "data": {
      "text/plain": [
       "'This is a robot'"
      ]
     },
     "execution_count": 9,
     "metadata": {},
     "output_type": "execute_result"
    }
   ],
   "source": [
    "class Robot:\n",
    "    # class variable\n",
    "    robot_armor = \"Titanium 4xzbr1\"\n",
    "\n",
    "    def __init__(\n",
    "        self,\n",
    "        name: str,\n",
    "    ):\n",
    "        # instance variable\n",
    "        self.name = name\n",
    "        self.position = [0, 0]\n",
    "        print(f\"My name is, {name}!\")\n",
    "\n",
    "    # instance method\n",
    "    def walk(self, x, y):\n",
    "        self.position[0] = x + y\n",
    "        print(f\"New position: {self.position}\")\n",
    "\n",
    "    # class method\n",
    "    @classmethod\n",
    "    def get_robot(cls):\n",
    "        return cls.robot_armor\n",
    "\n",
    "    # static method\n",
    "    @staticmethod\n",
    "    def info():\n",
    "        return \"This is a robot\"\n",
    "\n",
    "\n",
    "robt1 = Robot(\"Rondo\")\n",
    "\n",
    "print(robt1.get_robot())\n",
    "robt1.info()"
   ]
  }
 ],
 "metadata": {
  "kernelspec": {
   "display_name": ".venv",
   "language": "python",
   "name": "python3"
  },
  "language_info": {
   "codemirror_mode": {
    "name": "ipython",
    "version": 3
   },
   "file_extension": ".py",
   "mimetype": "text/x-python",
   "name": "python",
   "nbconvert_exporter": "python",
   "pygments_lexer": "ipython3",
   "version": "3.12.8"
  }
 },
 "nbformat": 4,
 "nbformat_minor": 2
}
