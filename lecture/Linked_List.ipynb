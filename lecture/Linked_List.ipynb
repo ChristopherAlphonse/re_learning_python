{
 "cells": [
  {
   "cell_type": "code",
   "execution_count": 46,
   "metadata": {},
   "outputs": [
    {
     "name": "stdout",
     "output_type": "stream",
     "text": [
      "2\n",
      "2 -> 1\n"
     ]
    }
   ],
   "source": [
    "class SinglyNode:\n",
    "    def __init__(self, data, next=None):\n",
    "        self.data = data\n",
    "        self.next = next\n",
    "\n",
    "    def __str__(self):\n",
    "        return str(self.data)\n",
    "\n",
    "\n",
    "class LinkedList:\n",
    "    def __init__(self):\n",
    "        self.head = None\n",
    "\n",
    "\n",
    "# Traverse the list O(n)\n",
    "\n",
    "    def print_list(self):\n",
    "        current_node = self.head\n",
    "        el = []\n",
    "        while current_node:\n",
    "            el.append(str(current_node.data))\n",
    "            print(\" -> \".join(el))\n",
    "            current_node = current_node.next\n",
    "\n",
    "    def insert_at_beginning(self, data):\n",
    "        new_node = SinglyNode(data)\n",
    "\n",
    "        if self.head is None:\n",
    "            self.head = new_node\n",
    "        else:\n",
    "            new_node.next = self.head\n",
    "            self.head = new_node\n",
    "\n",
    "# search for a node value O(n)\n",
    "    def search(self, data) -> bool:\n",
    "        current_node = self.head\n",
    "        while current_node:\n",
    "            if current_node.data == data:\n",
    "                True\n",
    "                current_node = current_node.next\n",
    "\n",
    "            return False\n",
    "\n",
    "\n",
    "ll = LinkedList()\n",
    "ll.insert_at_beginning(1)\n",
    "ll.insert_at_beginning(2)\n",
    "ll.print_list()\n",
    "# print(ll.search(7))"
   ]
  },
  {
   "cell_type": "code",
   "execution_count": 42,
   "metadata": {},
   "outputs": [
    {
     "name": "stdout",
     "output_type": "stream",
     "text": [
      "100 <-> 150 <-> None\n"
     ]
    }
   ],
   "source": [
    "# Doubly LinkedList\n",
    "\n",
    "class DoublyNode:\n",
    "    def __init__(self, data, next=None, prev=None):\n",
    "        self.data = data\n",
    "        self.next = next\n",
    "        self.prev = prev\n",
    "\n",
    "    def __str__(self):\n",
    "        return str(self.data)\n",
    "\n",
    "\n",
    "class DoublyLL:\n",
    "    def __init__(self):\n",
    "        self.head = None\n",
    "        self.tail = None\n",
    "\n",
    "    def display(self):\n",
    "        # If the list is empty, display a message\n",
    "        if self.head is None:\n",
    "            print(\"The list is empty.\")\n",
    "        else:\n",
    "            current = self.head\n",
    "            while current:\n",
    "                print(current, end=\" <-> \")\n",
    "                current = current.next\n",
    "            print(\"None\")\n",
    "\n",
    "    def add_node(self, data):\n",
    "        # creating a new node\n",
    "        new_node = DoublyNode(data)\n",
    "        # check if the list is empty\n",
    "        if not self.head:\n",
    "            # init head and tail\n",
    "            self.head = self.tail = new_node\n",
    "        else:\n",
    "            # link the new node to te tail\n",
    "            self.tail.next = new_node\n",
    "            new_node.prev = self.tail\n",
    "            # update the tail\n",
    "            self.tail = new_node\n",
    "\n",
    "\n",
    "dll = DoublyLL()\n",
    "dll.add_node(100)\n",
    "dll.add_node(150)\n",
    "dll.display()"
   ]
  },
  {
   "cell_type": "markdown",
   "metadata": {},
   "source": []
  }
 ],
 "metadata": {
  "kernelspec": {
   "display_name": ".venv",
   "language": "python",
   "name": "python3"
  },
  "language_info": {
   "codemirror_mode": {
    "name": "ipython",
    "version": 3
   },
   "file_extension": ".py",
   "mimetype": "text/x-python",
   "name": "python",
   "nbconvert_exporter": "python",
   "pygments_lexer": "ipython3",
   "version": "3.12.8"
  }
 },
 "nbformat": 4,
 "nbformat_minor": 2
}
