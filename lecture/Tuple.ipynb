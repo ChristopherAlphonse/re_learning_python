{
 "cells": [
  {
   "cell_type": "code",
   "execution_count": 1,
   "metadata": {},
   "outputs": [
    {
     "name": "stdout",
     "output_type": "stream",
     "text": [
      "Dog(name='oscar', breed='gray hound', color='grey and black')\n",
      "my dog'name is oscar, and he is a gray hound, with grey and black colors\n"
     ]
    }
   ],
   "source": [
    "from collections import namedtuple\n",
    "\n",
    "\n",
    "Dog = namedtuple(\"Dog\", [\"name\", \"breed\", \"color\"])\n",
    "\n",
    "my_dog = Dog(\"oscar\", \"gray hound\", \"grey and black\")\n",
    "print(my_dog)\n",
    "\n",
    "\n",
    "print(f\"my dog'name is {my_dog[0]}, and he is a {\n",
    "      my_dog.breed}, with {my_dog[2]} colors\")"
   ]
  },
  {
   "cell_type": "markdown",
   "metadata": {},
   "source": []
  }
 ],
 "metadata": {
  "kernelspec": {
   "display_name": ".venv",
   "language": "python",
   "name": "python3"
  },
  "language_info": {
   "codemirror_mode": {
    "name": "ipython",
    "version": 3
   },
   "file_extension": ".py",
   "mimetype": "text/x-python",
   "name": "python",
   "nbconvert_exporter": "python",
   "pygments_lexer": "ipython3",
   "version": "3.12.8"
  }
 },
 "nbformat": 4,
 "nbformat_minor": 2
}
