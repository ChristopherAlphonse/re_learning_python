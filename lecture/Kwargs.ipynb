{
 "cells": [
  {
   "cell_type": "code",
   "execution_count": 9,
   "metadata": {},
   "outputs": [
    {
     "name": "stdout",
     "output_type": "stream",
     "text": [
      "Ordered a Large pizza, with the following toppings:\n",
      "* pepperoni\n",
      "* cheese\n",
      "* bacon\n",
      "\n",
      " The order details:\n",
      "* delivery True\n",
      "* tip 0.2\n",
      "* cost 25.0\n"
     ]
    }
   ],
   "source": [
    "def order_pizza(size, *toppings, **details):\n",
    "    print(f\"Ordered a {size} pizza, with the following toppings:\")\n",
    "    for topping in toppings:\n",
    "        print(f\"* {topping}\")\n",
    "    print(\"\\n The order details:\")\n",
    "    for k, v in details.items():\n",
    "        print(f\"* {k} {v}\")\n",
    "\n",
    "\n",
    "order_pizza(\"Large\", \"pepperoni\", \"cheese\",\n",
    "            \"bacon\", delivery=True, tip=0.20, cost=25.00)"
   ]
  }
 ],
 "metadata": {
  "kernelspec": {
   "display_name": ".venv",
   "language": "python",
   "name": "python3"
  },
  "language_info": {
   "codemirror_mode": {
    "name": "ipython",
    "version": 3
   },
   "file_extension": ".py",
   "mimetype": "text/x-python",
   "name": "python",
   "nbconvert_exporter": "python",
   "pygments_lexer": "ipython3",
   "version": "3.12.8"
  }
 },
 "nbformat": 4,
 "nbformat_minor": 2
}
