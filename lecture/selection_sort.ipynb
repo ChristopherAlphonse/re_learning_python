{
 "cells": [
  {
   "cell_type": "code",
   "execution_count": 4,
   "metadata": {},
   "outputs": [
    {
     "name": "stdout",
     "output_type": "stream",
     "text": [
      "[876, 89, 565, 999, 888, 555, 450, 432, 45, 23, 19, 12, 11, 6]\n"
     ]
    }
   ],
   "source": [
    "def selection_sort(arr: list) -> list:\n",
    "    for i in range(len(arr)):\n",
    "        min_x = i\n",
    "        for el in range(i+1, len(arr)):\n",
    "            if arr[el] < arr[min_x]:\n",
    "                min_x = el\n",
    "                # only swap after checking all adjacent element throughout the unsorted list, and updated our constant with the value\n",
    "        arr[i], arr[min_x] = arr[min_x], arr[i]\n",
    "    return arr\n",
    "\n",
    "\n",
    "n = [876, 45, 23, 89, 12, 565, 11, 432, 555, 999, 888, 19, 450, 6]\n",
    "\n",
    "print(selection_sort(n))"
   ]
  },
  {
   "cell_type": "code",
   "execution_count": 5,
   "metadata": {},
   "outputs": [
    {
     "name": "stdout",
     "output_type": "stream",
     "text": [
      "[0, 2, 6]\n"
     ]
    }
   ],
   "source": [
    "def select(n):\n",
    "    for i in range(len(n)):\n",
    "        min_x = i\n",
    "        for index in range(i+1, len(n)):\n",
    "            if n[index] < n[min_x]:\n",
    "                min_x = n[index]\n",
    "        n[i], n[min_x] = n[min_x], n[i]\n",
    "    return n\n",
    "\n",
    "\n",
    "ar = [6, 2, 0]\n",
    "print(select(ar))"
   ]
  },
  {
   "cell_type": "markdown",
   "metadata": {},
   "source": [
    "Selection sort is an algorithm that selects the smallest element from an unsorted list in each iteration and places that element at the beginning of the unsorted list\n"
   ]
  }
 ],
 "metadata": {
  "kernelspec": {
   "display_name": ".venv",
   "language": "python",
   "name": "python3"
  },
  "language_info": {
   "codemirror_mode": {
    "name": "ipython",
    "version": 3
   },
   "file_extension": ".py",
   "mimetype": "text/x-python",
   "name": "python",
   "nbconvert_exporter": "python",
   "pygments_lexer": "ipython3",
   "version": "3.12.8"
  }
 },
 "nbformat": 4,
 "nbformat_minor": 2
}
