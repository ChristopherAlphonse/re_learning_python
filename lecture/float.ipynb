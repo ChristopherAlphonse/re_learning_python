{
 "cells": [
  {
   "cell_type": "markdown",
   "metadata": {},
   "source": [
    "Float-type objects have a limited range of values that can be represented. For a standard 32-bit installation of Python, the maximum floating-point value is approximately 1.8x10308, and the minimum floating-point value is 2.3x10-308. Assigning a floating-point value outside of this range generates an OverflowError. Overflow occurs when a value is too large to be stored in the memory allocated by the interpreter. For example, the program in the figure below tries to store the value 2.01024, which causes an overflow error.\n",
    "\n",
    "In general, floating-point types should be used to represent quantities that are measured, such as distances, temperatures, volumes, and weights, whereas integer types should be used to represent quantities that are counted, such as numbers of cars, students, cities, hours, and minutes.\n"
   ]
  },
  {
   "cell_type": "code",
   "execution_count": 1,
   "metadata": {},
   "outputs": [
    {
     "name": "stdout",
     "output_type": "stream",
     "text": [
      "2.0 to the power of 256 = 1.157920892373162e+77\n",
      "2.0 to the power of 512 =  1.3407807929942597e+154\n"
     ]
    },
    {
     "ename": "OverflowError",
     "evalue": "(34, 'Result too large')",
     "output_type": "error",
     "traceback": [
      "\u001b[1;31m---------------------------------------------------------------------------\u001b[0m",
      "\u001b[1;31mOverflowError\u001b[0m                             Traceback (most recent call last)",
      "Cell \u001b[1;32mIn[1], line 3\u001b[0m\n\u001b[0;32m      1\u001b[0m \u001b[38;5;28mprint\u001b[39m(\u001b[38;5;124m'\u001b[39m\u001b[38;5;124m2.0 to the power of 256 =\u001b[39m\u001b[38;5;124m'\u001b[39m, \u001b[38;5;241m2.0\u001b[39m\u001b[38;5;241m*\u001b[39m\u001b[38;5;241m*\u001b[39m\u001b[38;5;241m256\u001b[39m)\n\u001b[0;32m      2\u001b[0m \u001b[38;5;28mprint\u001b[39m(\u001b[38;5;124m'\u001b[39m\u001b[38;5;124m2.0 to the power of 512 = \u001b[39m\u001b[38;5;124m'\u001b[39m, \u001b[38;5;241m2.0\u001b[39m\u001b[38;5;241m*\u001b[39m\u001b[38;5;241m*\u001b[39m\u001b[38;5;241m512\u001b[39m)\n\u001b[1;32m----> 3\u001b[0m \u001b[38;5;28mprint\u001b[39m(\u001b[38;5;124m'\u001b[39m\u001b[38;5;124m2.0 to the power of 1024 = \u001b[39m\u001b[38;5;124m'\u001b[39m, \u001b[38;5;241;43m2.0\u001b[39;49m\u001b[38;5;241;43m*\u001b[39;49m\u001b[38;5;241;43m*\u001b[39;49m\u001b[38;5;241;43m1024\u001b[39;49m)\n",
      "\u001b[1;31mOverflowError\u001b[0m: (34, 'Result too large')"
     ]
    }
   ],
   "source": [
    "print('2.0 to the power of 256 =', 2.0**256)\n",
    "print('2.0 to the power of 512 = ', 2.0**512)\n",
    "print('2.0 to the power of 1024 = ', 2.0\\*\\*1024)\n",
    "\n",
    "# 2.0 to the power of 256 = 1.15792089237e+77\n",
    "\n",
    "# 2.0 to the power of 512 = 1.34078079299e+154\n",
    "\n",
    "# 2.0 to the power of 1024 =\n",
    "\n",
    "# Traceback (most recent call last):\n",
    "\n",
    "# File \"<stdin>\", line 3, in <module>\n",
    "\n",
    "# OverflowError: (34, 'Result too large')\n"
   ]
  }
 ],
 "metadata": {
  "kernelspec": {
   "display_name": ".venv",
   "language": "python",
   "name": "python3"
  },
  "language_info": {
   "codemirror_mode": {
    "name": "ipython",
    "version": 3
   },
   "file_extension": ".py",
   "mimetype": "text/x-python",
   "name": "python",
   "nbconvert_exporter": "python",
   "pygments_lexer": "ipython3",
   "version": "3.12.8"
  }
 },
 "nbformat": 4,
 "nbformat_minor": 2
}
