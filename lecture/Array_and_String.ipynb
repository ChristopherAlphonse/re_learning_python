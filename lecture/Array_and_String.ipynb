{
 "cells": [
  {
   "cell_type": "code",
   "execution_count": 8,
   "metadata": {},
   "outputs": [
    {
     "name": "stdout",
     "output_type": "stream",
     "text": [
      "[1, 2, 3]\n",
      "[1, 2, 3, 4]\n",
      "False\n",
      "found e 1\n",
      "worded\n"
     ]
    }
   ],
   "source": [
    "# List = dynamic array *O(1)\n",
    "# Insertion, Deletion not from the end 0(n)\n",
    "# Iteration through/checking if item exist in list 0(n)\n",
    "# Amortized = on average\n",
    "A = [1, 2, 3]\n",
    "print(A)\n",
    "\n",
    "\n",
    "A.append(4)  # insert item at the end\n",
    "print(A)\n",
    "\n",
    "\n",
    "if 5 in A:\n",
    "    print(True)\n",
    "else:\n",
    "    print(False)\n",
    "\n",
    "# String's are immutable\n",
    "\n",
    "# O(n) must loop trough all the elements\n",
    "B = \"Hello\"\n",
    "if 'e' in B:\n",
    "    print(\"found e\" sep=\" \")\n",
    "    print(B.index('e'))\n",
    "\n",
    "\n",
    "# return a new string or append to the end of the string 0(n)\n",
    "a = \"word\"\n",
    "c = a + \"ed\"\n",
    "print(c)\n",
    "\n",
    "\n",
    "\n",
    "\n",
    "# list and string have length method len()\n",
    "# checking length is O(1)\n",
    "\n"
   ]
  }
 ],
 "metadata": {
  "kernelspec": {
   "display_name": ".venv",
   "language": "python",
   "name": "python3"
  },
  "language_info": {
   "codemirror_mode": {
    "name": "ipython",
    "version": 3
   },
   "file_extension": ".py",
   "mimetype": "text/x-python",
   "name": "python",
   "nbconvert_exporter": "python",
   "pygments_lexer": "ipython3",
   "version": "3.12.8"
  }
 },
 "nbformat": 4,
 "nbformat_minor": 2
}
