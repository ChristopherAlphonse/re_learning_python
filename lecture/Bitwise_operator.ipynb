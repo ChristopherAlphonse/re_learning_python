{
 "cells": [
  {
   "cell_type": "markdown",
   "metadata": {},
   "source": [
    "# Working with Bitwise Operators\n",
    "\n",
    "- Complement(~)\n",
    "- And(&)\n",
    "- Or(|)\n",
    "- XOR(^)\n",
    "- Left Shift(<<)\n",
    "- Right Shift(>>)\n"
   ]
  },
  {
   "cell_type": "markdown",
   "metadata": {},
   "source": [
    "## Complement\n"
   ]
  },
  {
   "cell_type": "code",
   "execution_count": 4,
   "metadata": {},
   "outputs": [
    {
     "data": {
      "text/plain": [
       "-3"
      ]
     },
     "execution_count": 4,
     "metadata": {},
     "output_type": "execute_result"
    }
   ],
   "source": [
    "\n",
    "result = ~12\n",
    "\n",
    "# Explanation:\n",
    "# 12 in binary:       00001100\n",
    "# Complement of 12:   11110011 <-------\n",
    "# 2's complement -> find 1's complement + 1\n",
    "# Convert 13 to binary: 00001101\n",
    "\n",
    "# 1's complement of 13: 11110010\n",
    "# 2's complement of 13:       +1\n",
    "#                  -13  11110011 <-------\n",
    "# 2's complement is 1's complement + 1\n",
    "# Now complements of 12 is the same\n",
    "\n",
    "\n",
    "print(result)  # Output: -13"
   ]
  },
  {
   "cell_type": "markdown",
   "metadata": {},
   "source": [
    "## & and |\n",
    "\n",
    "![image](https://i.ytimg.com/vi/sqUOik-Wg2c/maxresdefault.jpg)\n",
    "\n",
    "### And\n"
   ]
  },
  {
   "cell_type": "code",
   "execution_count": 5,
   "metadata": {},
   "outputs": [
    {
     "data": {
      "text/plain": [
       "12"
      ]
     },
     "execution_count": 5,
     "metadata": {},
     "output_type": "execute_result"
    }
   ],
   "source": [
    "12 & 13\n",
    "\n",
    "# Perform the bitwise AND operation, which compares each corresponding pair of bits from the two numbers.\n",
    "# The result is 1 if both bits are 1, otherwise, it is 0:\n",
    "\n",
    "\n",
    "# Explanation:\n",
    "# Convert 12 into binary: 1100\n",
    "# Convert 13 into binary: 1101\n",
    "#                         ----\n",
    "#                         1100\n",
    "\n",
    "# True(1, on) & False(0, off) = False\n",
    "# False & False               = False\n",
    "# False & False               = False\n",
    "# True  & True                = True"
   ]
  },
  {
   "cell_type": "markdown",
   "metadata": {},
   "source": [
    "### Or\n"
   ]
  },
  {
   "cell_type": "code",
   "execution_count": 6,
   "metadata": {},
   "outputs": [
    {
     "data": {
      "text/plain": [
       "13"
      ]
     },
     "execution_count": 6,
     "metadata": {},
     "output_type": "execute_result"
    }
   ],
   "source": [
    "12 | 13\n",
    "\n",
    "# With the | operator only one value needs to the truthy, both values bits must be false to get falsy"
   ]
  },
  {
   "cell_type": "markdown",
   "metadata": {},
   "source": [
    "## XOR\n",
    "\n",
    "- 00 -> 0: When both bits are 0, the result is 0 because they are the same.\n",
    "- 01 -> 1: When the bits are 0 and 1, the result is 1 because they are different.\n",
    "- 10 -> 1: When the bits are 1 and 0, the result is 1 because they are different.\n",
    "- 11 -> 0: When both bits are 1, the result is 0 because they are the same.\n"
   ]
  },
  {
   "cell_type": "code",
   "execution_count": 7,
   "metadata": {},
   "outputs": [
    {
     "data": {
      "text/plain": [
       "1"
      ]
     },
     "execution_count": 7,
     "metadata": {},
     "output_type": "execute_result"
    }
   ],
   "source": [
    "13 ^ 12\n",
    "\n",
    "# s: same\n",
    "# d: different\n",
    "\n",
    "# 12: 1100\n",
    "# 13: 1101\n",
    "#     sssd"
   ]
  }
 ],
 "metadata": {
  "kernelspec": {
   "display_name": ".venv",
   "language": "python",
   "name": "python3"
  },
  "language_info": {
   "codemirror_mode": {
    "name": "ipython",
    "version": 3
   },
   "file_extension": ".py",
   "mimetype": "text/x-python",
   "name": "python",
   "nbconvert_exporter": "python",
   "pygments_lexer": "ipython3",
   "version": "3.12.8"
  }
 },
 "nbformat": 4,
 "nbformat_minor": 2
}
