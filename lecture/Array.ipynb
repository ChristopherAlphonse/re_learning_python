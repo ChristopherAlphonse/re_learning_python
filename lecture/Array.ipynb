{
 "cells": [
  {
   "cell_type": "code",
   "execution_count": 2,
   "metadata": {},
   "outputs": [
    {
     "name": "stdout",
     "output_type": "stream",
     "text": [
      "2\n",
      "1\n",
      "64\n",
      "4\n",
      "6\n",
      "7\n"
     ]
    }
   ],
   "source": [
    "from array import array\n",
    "\n",
    "vals = array('i', [1, 64, 4, 6, 7])\n",
    "\n",
    "for i in vals:\n",
    "    print(i)"
   ]
  },
  {
   "cell_type": "code",
   "execution_count": 2,
   "metadata": {},
   "outputs": [
    {
     "name": "stdout",
     "output_type": "stream",
     "text": [
      "[ 1  2  3  4  5 99]\n"
     ]
    }
   ],
   "source": [
    "from numpy import array, sort\n",
    "\n",
    "arr = array([99, 1, 2, 3, 4, 5])\n",
    "sort(arr)\n",
    "print(arr)"
   ]
  },
  {
   "cell_type": "markdown",
   "metadata": {},
   "source": []
  },
  {
   "cell_type": "code",
   "execution_count": 31,
   "metadata": {},
   "outputs": [
    {
     "name": "stdout",
     "output_type": "stream",
     "text": [
      "[6, 7, 8, 9, 10]\n",
      "-----------------\n",
      "40\n",
      "-----------------\n",
      "[ 6  7  8  9 10  1  2  3  4  5]\n",
      "-----------------\n",
      "2199904646800\n",
      "2199904644208\n",
      "-----------------\n",
      "2199881653808\n",
      "2199904644208\n"
     ]
    }
   ],
   "source": [
    "from numpy import *\n",
    "\n",
    "arr = [1, 2, 3, 4, 5]\n",
    "arr2 = [1, 2, 3, 4, 5]\n",
    "\n",
    "\n",
    "for i in range(len(arr)):\n",
    "    arr[i] += 5\n",
    "\n",
    "print(arr)\n",
    "print(\"-----------------\")\n",
    "# numpy array\n",
    "a = array([1, 2, 3, 4, 5])\n",
    "\n",
    "a += 5\n",
    "print(sum(a))\n",
    "print(\"-----------------\")\n",
    "\n",
    "# concat\n",
    "\n",
    "print(concatenate([arr, arr2]))\n",
    "print(\"-----------------\")\n",
    "\n",
    "# shallow copy; although the address are different if the value of the copy changes the copy will update.\n",
    "arr3 = a.view()\n",
    "print(id(arr3))\n",
    "print(id(a))\n",
    "\n",
    "\n",
    "print(\"-----------------\")\n",
    "\n",
    "# deep copy; same copy values but they no longer share any reference or point at the same address\n",
    "arr4 = a.copy()\n",
    "print(id(arr4))\n",
    "print(id(a))"
   ]
  },
  {
   "cell_type": "code",
   "execution_count": null,
   "metadata": {},
   "outputs": [],
   "source": []
  }
 ],
 "metadata": {
  "kernelspec": {
   "display_name": ".venv",
   "language": "python",
   "name": "python3"
  },
  "language_info": {
   "codemirror_mode": {
    "name": "ipython",
    "version": 3
   },
   "file_extension": ".py",
   "mimetype": "text/x-python",
   "name": "python",
   "nbconvert_exporter": "python",
   "pygments_lexer": "ipython3",
   "version": "3.12.8"
  }
 },
 "nbformat": 4,
 "nbformat_minor": 2
}
