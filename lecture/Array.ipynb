{
 "cells": [
  {
   "cell_type": "code",
   "execution_count": 2,
   "metadata": {},
   "outputs": [
    {
     "name": "stdout",
     "output_type": "stream",
     "text": [
      "2\n",
      "1\n",
      "64\n",
      "4\n",
      "6\n",
      "7\n"
     ]
    }
   ],
   "source": [
    "from array import array\n",
    "\n",
    "vals = array('i', [1, 64, 4, 6, 7])\n",
    "\n",
    "for i in vals:\n",
    "    print(i)"
   ]
  },
  {
   "cell_type": "code",
   "execution_count": 2,
   "metadata": {},
   "outputs": [
    {
     "name": "stdout",
     "output_type": "stream",
     "text": [
      "[ 1  2  3  4  5 99]\n"
     ]
    }
   ],
   "source": [
    "from numpy import array, sort\n",
    "\n",
    "arr = array([99, 1, 2, 3, 4, 5])\n",
    "sort(arr)\n",
    "print(arr)"
   ]
  },
  {
   "cell_type": "code",
   "execution_count": 6,
   "metadata": {},
   "outputs": [
    {
     "name": "stdout",
     "output_type": "stream",
     "text": [
      "Dog(name='oscar', breed='gray hound', color='grey and black')\n",
      "my dog'name is oscar, and he is a gray hound, with grey and black colors\n"
     ]
    }
   ],
   "source": [
    "from collections import namedtuple\n",
    "\n",
    "\n",
    "Dog = namedtuple(\"Dog\", [\"name\", \"breed\", \"color\"])\n",
    "\n",
    "my_dog = Dog(\"oscar\", \"gray hound\", \"grey and black\")\n",
    "print(my_dog)\n",
    "\n",
    "\n",
    "print(f\"my dog'name is {my_dog[0]}, and he is a {\n",
    "      my_dog[1]}, with {my_dog[2]} colors\")"
   ]
  },
  {
   "cell_type": "markdown",
   "metadata": {},
   "source": []
  }
 ],
 "metadata": {
  "kernelspec": {
   "display_name": ".venv",
   "language": "python",
   "name": "python3"
  },
  "language_info": {
   "codemirror_mode": {
    "name": "ipython",
    "version": 3
   },
   "file_extension": ".py",
   "mimetype": "text/x-python",
   "name": "python",
   "nbconvert_exporter": "python",
   "pygments_lexer": "ipython3",
   "version": "3.12.8"
  }
 },
 "nbformat": 4,
 "nbformat_minor": 2
}
