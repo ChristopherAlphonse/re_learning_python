{
 "cells": [
  {
   "cell_type": "code",
   "execution_count": 15,
   "metadata": {},
   "outputs": [
    {
     "name": "stdout",
     "output_type": "stream",
     "text": [
      "10\n",
      "6\n"
     ]
    }
   ],
   "source": [
    "a = 6  # 3bits\n",
    "b = 10  # 3 bits\n",
    "\n",
    "\n",
    "# 16 -  4 bits\n",
    "a = a+b  # 6\n",
    "b = a-b  # 10\n",
    "a = a-b\n",
    "# This solution waste 1 bit\n",
    "\n",
    "\n",
    "print(a)\n",
    "print(b)"
   ]
  },
  {
   "cell_type": "code",
   "execution_count": 3,
   "metadata": {},
   "outputs": [
    {
     "name": "stdout",
     "output_type": "stream",
     "text": [
      "(10, 6)\n"
     ]
    }
   ],
   "source": [
    "a = 6  # 101\n",
    "b = 10  # 110\n",
    "\n",
    "\n",
    "# xor will output the same about of bits entered\n",
    "\n",
    "def swap(a, b):\n",
    "    a = a ^ b\n",
    "    b = a ^ b\n",
    "    a = a ^ b\n",
    "    return a, b\n",
    "\n",
    "\n",
    "print(swap(a, b))"
   ]
  },
  {
   "cell_type": "code",
   "execution_count": 13,
   "metadata": {},
   "outputs": [
    {
     "name": "stdout",
     "output_type": "stream",
     "text": [
      "10\n",
      "6\n"
     ]
    }
   ],
   "source": [
    "# ROT TWO: swapping the top two items on the stack\n",
    "\n",
    "a = 6  # 3bits 101\n",
    "b = 10  # 3 bits 110\n",
    "\n",
    "a, b = b, a\n",
    "\n",
    "print(a)\n",
    "print(b)"
   ]
  },
  {
   "cell_type": "code",
   "execution_count": 1,
   "metadata": {},
   "outputs": [
    {
     "name": "stdout",
     "output_type": "stream",
     "text": [
      "0 1 1 2 3 5 8 13 21 34 55 89 \n"
     ]
    }
   ],
   "source": [
    "# exercise: return the fib sequence less than 100, modified to return less than the arg pass in\n",
    "def fib(n):\n",
    "    if n <= 0:\n",
    "        print(0)\n",
    "        return\n",
    "    if n == 1:\n",
    "        print(1)\n",
    "        return\n",
    "\n",
    "    a = 0\n",
    "    b = 1\n",
    "    print(a, end=\" \")\n",
    "    print(b, end=\" \")\n",
    "\n",
    "    for _ in range(2, n):\n",
    "        c = a + b\n",
    "        a, b = b, c\n",
    "        if (c < n):\n",
    "            print(c, end=\" \")\n",
    "        else:\n",
    "            continue\n",
    "\n",
    "    print()\n",
    "\n",
    "\n",
    "fib(100)"
   ]
  },
  {
   "cell_type": "code",
   "execution_count": 10,
   "metadata": {},
   "outputs": [
    {
     "name": "stdout",
     "output_type": "stream",
     "text": [
      "[2, 1, 3, 4]\n"
     ]
    }
   ],
   "source": [
    "\n",
    "# Example on a list:\n",
    "def rot_two(lst):\n",
    "    if len(lst) < 2:\n",
    "        return lst\n",
    "    lst[0], lst[1] = lst[1], lst[0]\n",
    "    return lst\n",
    "\n",
    "\n",
    "my_list = [1, 2, 3, 4]\n",
    "print(rot_two(my_list))"
   ]
  }
 ],
 "metadata": {
  "kernelspec": {
   "display_name": ".venv",
   "language": "python",
   "name": "python3"
  },
  "language_info": {
   "codemirror_mode": {
    "name": "ipython",
    "version": 3
   },
   "file_extension": ".py",
   "mimetype": "text/x-python",
   "name": "python",
   "nbconvert_exporter": "python",
   "pygments_lexer": "ipython3",
   "version": "3.12.8"
  }
 },
 "nbformat": 4,
 "nbformat_minor": 2
}
