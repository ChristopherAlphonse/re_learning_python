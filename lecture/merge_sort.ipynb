{
 "cells": [
  {
   "cell_type": "code",
   "execution_count": 14,
   "metadata": {},
   "outputs": [
    {
     "ename": "TypeError",
     "evalue": "'<=' not supported between instances of 'list' and 'int'",
     "output_type": "error",
     "traceback": [
      "\u001b[1;31m---------------------------------------------------------------------------\u001b[0m",
      "\u001b[1;31mTypeError\u001b[0m                                 Traceback (most recent call last)",
      "Cell \u001b[1;32mIn[14], line 38\u001b[0m\n\u001b[0;32m     33\u001b[0m     \u001b[38;5;28;01mreturn\u001b[39;00m merge(l_result, r_result)\n\u001b[0;32m     36\u001b[0m my_list_ \u001b[38;5;241m=\u001b[39m [\u001b[38;5;241m7\u001b[39m, \u001b[38;5;241m6\u001b[39m, \u001b[38;5;241m5\u001b[39m, \u001b[38;5;241m4\u001b[39m, \u001b[38;5;241m3\u001b[39m, \u001b[38;5;241m2\u001b[39m]\n\u001b[1;32m---> 38\u001b[0m \u001b[38;5;28mprint\u001b[39m(\u001b[43mmerge_sort\u001b[49m\u001b[43m(\u001b[49m\u001b[43mmy_list_\u001b[49m\u001b[43m)\u001b[49m)\n",
      "Cell \u001b[1;32mIn[14], line 31\u001b[0m, in \u001b[0;36mmerge_sort\u001b[1;34m(n)\u001b[0m\n\u001b[0;32m     28\u001b[0m left \u001b[38;5;241m=\u001b[39m n[:middle]\n\u001b[0;32m     29\u001b[0m right \u001b[38;5;241m=\u001b[39m n[middle:]\n\u001b[1;32m---> 31\u001b[0m l_result \u001b[38;5;241m=\u001b[39m \u001b[43mmerge_sort\u001b[49m\u001b[43m(\u001b[49m\u001b[43mleft\u001b[49m\u001b[43m)\u001b[49m\n\u001b[0;32m     32\u001b[0m r_result \u001b[38;5;241m=\u001b[39m merge_sort(right)\n\u001b[0;32m     33\u001b[0m \u001b[38;5;28;01mreturn\u001b[39;00m merge(l_result, r_result)\n",
      "Cell \u001b[1;32mIn[14], line 32\u001b[0m, in \u001b[0;36mmerge_sort\u001b[1;34m(n)\u001b[0m\n\u001b[0;32m     29\u001b[0m right \u001b[38;5;241m=\u001b[39m n[middle:]\n\u001b[0;32m     31\u001b[0m l_result \u001b[38;5;241m=\u001b[39m merge_sort(left)\n\u001b[1;32m---> 32\u001b[0m r_result \u001b[38;5;241m=\u001b[39m \u001b[43mmerge_sort\u001b[49m\u001b[43m(\u001b[49m\u001b[43mright\u001b[49m\u001b[43m)\u001b[49m\n\u001b[0;32m     33\u001b[0m \u001b[38;5;28;01mreturn\u001b[39;00m merge(l_result, r_result)\n",
      "Cell \u001b[1;32mIn[14], line 33\u001b[0m, in \u001b[0;36mmerge_sort\u001b[1;34m(n)\u001b[0m\n\u001b[0;32m     31\u001b[0m l_result \u001b[38;5;241m=\u001b[39m merge_sort(left)\n\u001b[0;32m     32\u001b[0m r_result \u001b[38;5;241m=\u001b[39m merge_sort(right)\n\u001b[1;32m---> 33\u001b[0m \u001b[38;5;28;01mreturn\u001b[39;00m \u001b[43mmerge\u001b[49m\u001b[43m(\u001b[49m\u001b[43ml_result\u001b[49m\u001b[43m,\u001b[49m\u001b[43m \u001b[49m\u001b[43mr_result\u001b[49m\u001b[43m)\u001b[49m\n",
      "Cell \u001b[1;32mIn[14], line 5\u001b[0m, in \u001b[0;36mmerge\u001b[1;34m(list_a, list_b)\u001b[0m\n\u001b[0;32m      3\u001b[0m i \u001b[38;5;241m=\u001b[39m j \u001b[38;5;241m=\u001b[39m k \u001b[38;5;241m=\u001b[39m \u001b[38;5;241m0\u001b[39m\n\u001b[0;32m      4\u001b[0m \u001b[38;5;28;01mwhile\u001b[39;00m i \u001b[38;5;241m<\u001b[39m \u001b[38;5;28mlen\u001b[39m(list_a) \u001b[38;5;129;01mand\u001b[39;00m j \u001b[38;5;241m<\u001b[39m \u001b[38;5;28mlen\u001b[39m(list_b):\n\u001b[1;32m----> 5\u001b[0m     \u001b[38;5;28;01mif\u001b[39;00m \u001b[43mlist_a\u001b[49m\u001b[43m \u001b[49m\u001b[38;5;241;43m<\u001b[39;49m\u001b[38;5;241;43m=\u001b[39;49m\u001b[43m \u001b[49m\u001b[43mlist_b\u001b[49m\u001b[43m[\u001b[49m\u001b[43mj\u001b[49m\u001b[43m]\u001b[49m:\n\u001b[0;32m      6\u001b[0m         merge_list[k] \u001b[38;5;241m=\u001b[39m list_a[i]\n\u001b[0;32m      7\u001b[0m         i \u001b[38;5;241m+\u001b[39m\u001b[38;5;241m=\u001b[39m \u001b[38;5;241m1\u001b[39m\n",
      "\u001b[1;31mTypeError\u001b[0m: '<=' not supported between instances of 'list' and 'int'"
     ]
    }
   ],
   "source": [
    "def merge(list_a, list_b):\n",
    "    merge_list = [None] * (len(list_a) + len(list_b))\n",
    "    i = j = k = 0\n",
    "    while i < len(list_a) and j < len(list_b):\n",
    "        if list_a <= list_b[j]:\n",
    "            merge_list[k] = list_a[i]\n",
    "            i += 1\n",
    "        else:\n",
    "            merge_list[k] = list_b[j]\n",
    "            j += 1\n",
    "        k += 1\n",
    "    while i < len(list_a):\n",
    "        merge_list[k] = list_a[i]\n",
    "        i += 1\n",
    "        k += 1\n",
    "    while j < len(list_b):\n",
    "        merge_list[k] = list_b[j]\n",
    "        j += 1\n",
    "        k += 1\n",
    "\n",
    "    return merge_list\n",
    "\n",
    "\n",
    "def merge_sort(n):\n",
    "    if len(n) == 1:\n",
    "        return n\n",
    "    middle = len(n) // 2\n",
    "    left = n[:middle]\n",
    "    right = n[middle:]\n",
    "\n",
    "    l_result = merge_sort(left)\n",
    "    r_result = merge_sort(right)\n",
    "    return merge(l_result, r_result)\n",
    "\n",
    "\n",
    "my_list_ = [7, 6, 5, 4, 3, 2]\n",
    "\n",
    "print(merge_sort(my_list_))"
   ]
  }
 ],
 "metadata": {
  "kernelspec": {
   "display_name": ".venv",
   "language": "python",
   "name": "python3"
  },
  "language_info": {
   "codemirror_mode": {
    "name": "ipython",
    "version": 3
   },
   "file_extension": ".py",
   "mimetype": "text/x-python",
   "name": "python",
   "nbconvert_exporter": "python",
   "pygments_lexer": "ipython3",
   "version": "3.12.8"
  }
 },
 "nbformat": 4,
 "nbformat_minor": 2
}
