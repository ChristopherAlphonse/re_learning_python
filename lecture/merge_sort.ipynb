{
 "cells": [
  {
   "cell_type": "code",
   "execution_count": 18,
   "metadata": {},
   "outputs": [
    {
     "name": "stdout",
     "output_type": "stream",
     "text": [
      "[1, 7, 6, 5, 4, 3, 2, 9, 8]\n",
      "[2, 3, 4, 5, 6, 7]\n"
     ]
    }
   ],
   "source": [
    "def merge(list_a, list_b):\n",
    "    merge_list = [None] * (len(list_a) + len(list_b))\n",
    "    i = j = k = 0\n",
    "    while i < len(list_a) and j < len(list_b):\n",
    "        if list_a[i] <= list_b[j]:\n",
    "            merge_list[k] = list_a[i]\n",
    "            i += 1\n",
    "        else:\n",
    "            merge_list[k] = list_b[j]\n",
    "            j += 1\n",
    "        k += 1\n",
    "    while i < len(list_a):\n",
    "        merge_list[k] = list_a[i]\n",
    "        i += 1\n",
    "        k += 1\n",
    "    while j < len(list_b):\n",
    "        merge_list[k] = list_b[j]\n",
    "        j += 1\n",
    "        k += 1\n",
    "\n",
    "    return merge_list\n",
    "\n",
    "\n",
    "def merge_sort(n):\n",
    "    if len(n) == 1:\n",
    "        return n\n",
    "    middle = len(n) // 2\n",
    "    left = n[:middle]\n",
    "    right = n[middle:]\n",
    "\n",
    "    l_result = merge_sort(left)\n",
    "    r_result = merge_sort(right)\n",
    "    return merge(l_result, r_result)\n",
    "\n",
    "\n",
    "my_list_ = [7, 6, 5, 4, 3, 2]\n",
    "\n",
    "print(merge_sort(my_list_))"
   ]
  }
 ],
 "metadata": {
  "kernelspec": {
   "display_name": ".venv",
   "language": "python",
   "name": "python3"
  },
  "language_info": {
   "codemirror_mode": {
    "name": "ipython",
    "version": 3
   },
   "file_extension": ".py",
   "mimetype": "text/x-python",
   "name": "python",
   "nbconvert_exporter": "python",
   "pygments_lexer": "ipython3",
   "version": "3.12.8"
  }
 },
 "nbformat": 4,
 "nbformat_minor": 2
}
