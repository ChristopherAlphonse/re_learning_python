{
 "cells": [
  {
   "cell_type": "markdown",
   "metadata": {},
   "source": [
    "Evaluation of expressions\n"
   ]
  },
  {
   "cell_type": "markdown",
   "metadata": {},
   "source": [
    "Precedence rules for arithmetic operators.\n",
    "| Operator/Convention | Description | Explanation |\n",
    "|---------------------|-------------|-------------|\n",
    "| ( ) | Items within parentheses are evaluated first. | In `2 * (x + 1)`, the `x + 1` is evaluated first, with the result then multiplied by 2. |\n",
    "| exponent ** | ** used for exponent is next. | In `x**y * 3`, `x` to the power of `y` is computed first, with the results then multiplied by 3. |\n",
    "| unary - | - used for negation (unary minus) is next. | In `2 * -x`, the `-x` is computed first, with the result then multiplied by 2. |\n",
    "| _ / % | Next to be evaluated are _, /, and %, having equal precedence. | (% is discussed elsewhere.) |\n",
    "| + - | Finally come + and - with equal precedence. | In `y = 3 + 2 * x`, the `2 * x` is evaluated first, with the result then added to 3, because _ has higher precedence than +. Spacing doesn't matter: `y = 3+2 _ x`would still evaluate`2 _ x`first. |\n",
    "| left-to-right       | If more than one operator of equal precedence could be evaluated, evaluation occurs left to right. Note: The ** operator is evaluated from right-to-left. | In`y = x _ 2 / 3`, the `x \\* 2` is first evaluated, with the result then divided by 3. |\n"
   ]
  }
 ],
 "metadata": {
  "language_info": {
   "name": "python"
  }
 },
 "nbformat": 4,
 "nbformat_minor": 2
}
