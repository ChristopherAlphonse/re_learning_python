{
 "cells": [
  {
   "cell_type": "markdown",
   "id": "8dd3662e",
   "metadata": {},
   "source": [
    "### Working with Bitwise Operators\n"
   ]
  },
  {
   "cell_type": "markdown",
   "id": "71e32d0c",
   "metadata": {},
   "source": [
    "#### Complement (~)\n",
    "\n",
    "The `~` operator inverts all the bits of a number, essentially flipping 1s to 0s and 0s to 1s.\n"
   ]
  },
  {
   "cell_type": "code",
   "execution_count": 1,
   "id": "1fb02c78",
   "metadata": {},
   "outputs": [
    {
     "name": "stdout",
     "output_type": "stream",
     "text": [
      "-13\n"
     ]
    }
   ],
   "source": [
    "result = ~12\n",
    "print(result)"
   ]
  },
  {
   "cell_type": "markdown",
   "id": "7ca3cb1a",
   "metadata": {},
   "source": [
    "![visual](https://i.ytimg.com/vi/sqUOik-Wg2c/hqdefault.jpg)\n"
   ]
  },
  {
   "cell_type": "markdown",
   "id": "96d4278d",
   "metadata": {},
   "source": [
    "**Explanation:**\n",
    "\n",
    "1. **Binary Representation of 12:**  \n",
    "   `12` in binary: `00001100`\n",
    "2. **1's Complement of 12:**  \n",
    "   Flip the bits: `11110011`\n",
    "3. **2's Complement Representation (Negative Numbers):**\n",
    "   - Find 1's complement of `13` (`00001101`): `11110010`\n",
    "   - Add 1: `11110010 + 1 = 11110011`\n",
    "   - This results in `-13` in decimal.\n",
    "\n",
    "Thus, `~12` results in `-13`.\n"
   ]
  },
  {
   "cell_type": "markdown",
   "id": "39f97db8",
   "metadata": {},
   "source": []
  },
  {
   "cell_type": "markdown",
   "id": "23257e5e",
   "metadata": {},
   "source": [
    "#### Bitwise AND (`&`)\n",
    "\n",
    "The `&` operator performs a bitwise AND operation, which results in a `1` only if both corresponding bits are `1`.\n"
   ]
  },
  {
   "cell_type": "code",
   "execution_count": 2,
   "id": "c69df93e",
   "metadata": {},
   "outputs": [
    {
     "name": "stdout",
     "output_type": "stream",
     "text": [
      "12\n"
     ]
    }
   ],
   "source": [
    "result = 12 & 13\n",
    "print(result)"
   ]
  },
  {
   "cell_type": "markdown",
   "id": "8b1927b1",
   "metadata": {},
   "source": [
    "**Explanation:**\n",
    "\n",
    "- Binary representation of `12`: `1100`\n",
    "- Binary representation of `13`: `1101`\n",
    "- Perform AND operation:\n",
    "  ```\n",
    "  1100\n",
    "  &\n",
    "  1101\n",
    "  ----\n",
    "  1100\n",
    "  ```\n",
    "- Result: `12` (in decimal).\n"
   ]
  },
  {
   "cell_type": "markdown",
   "id": "0f073123",
   "metadata": {},
   "source": [
    "#### Bitwise OR (`|`)\n",
    "\n",
    "The `|` operator performs a bitwise OR operation, which results in a `1` if at least one of the corresponding bits is `1`.\n"
   ]
  },
  {
   "cell_type": "code",
   "execution_count": 3,
   "id": "8a36dfd7",
   "metadata": {},
   "outputs": [
    {
     "name": "stdout",
     "output_type": "stream",
     "text": [
      "13\n"
     ]
    }
   ],
   "source": [
    "result = 12 | 13\n",
    "print(result)"
   ]
  },
  {
   "cell_type": "markdown",
   "id": "dd458f57",
   "metadata": {},
   "source": [
    "**Explanation:**\n",
    "\n",
    "- Binary representation of `12`: `1100`\n",
    "- Binary representation of `13`: `1101`\n",
    "- Perform OR operation:\n",
    "  ```\n",
    "  1100\n",
    "  |\n",
    "  1101\n",
    "  ----\n",
    "  1101\n",
    "  ```\n",
    "- Result: `13` (in decimal).\n"
   ]
  },
  {
   "cell_type": "markdown",
   "id": "f2ab7845",
   "metadata": {},
   "source": [
    "#### Bitwise XOR (`^`)\n",
    "\n",
    "The `^` operator performs a bitwise XOR operation, which results in a `1` if the corresponding bits are different, and `0` if they are the same.\n"
   ]
  },
  {
   "cell_type": "code",
   "execution_count": 4,
   "id": "e38efec7",
   "metadata": {},
   "outputs": [
    {
     "name": "stdout",
     "output_type": "stream",
     "text": [
      "1\n"
     ]
    }
   ],
   "source": [
    "result = 12 ^ 13\n",
    "print(result)"
   ]
  },
  {
   "cell_type": "markdown",
   "id": "d13940de",
   "metadata": {},
   "source": [
    "**Explanation:**\n",
    "\n",
    "- Binary representation of `12`: `1100`\n",
    "- Binary representation of `13`: `1101`\n",
    "- Perform XOR operation:\n",
    "  ```\n",
    "  1100\n",
    "  ^\n",
    "  1101\n",
    "  ----\n",
    "  0001\n",
    "  ```\n",
    "- Result: `1` (in decimal).\n"
   ]
  },
  {
   "cell_type": "markdown",
   "id": "24c9de0f",
   "metadata": {},
   "source": [
    "#### Left Shift (`<<`)\n",
    "\n",
    "The `<<` operator shifts bits to the left by the specified number of positions, filling the vacated bits with `0`.\n"
   ]
  },
  {
   "cell_type": "code",
   "execution_count": null,
   "id": "656420ee",
   "metadata": {},
   "outputs": [],
   "source": [
    "result = 12 << 2\n",
    "print(result)"
   ]
  },
  {
   "cell_type": "markdown",
   "id": "f20978d2",
   "metadata": {},
   "source": [
    "**Explanation:**\n",
    "\n",
    "- Binary representation of `12`: `00001100`\n",
    "- Shift bits two places to the left: `00110000`\n",
    "- Result: `48` (in decimal).\n"
   ]
  },
  {
   "cell_type": "markdown",
   "id": "274930e2",
   "metadata": {},
   "source": [
    "#### Right Shift (`>>`)\n",
    "\n",
    "The `>>` operator shifts bits to the right by the specified number of positions, discarding bits shifted off.\n"
   ]
  },
  {
   "cell_type": "code",
   "execution_count": null,
   "id": "8469e405",
   "metadata": {},
   "outputs": [],
   "source": [
    "result = 12 >> 2\n",
    "print(result)"
   ]
  },
  {
   "cell_type": "markdown",
   "id": "56985418",
   "metadata": {},
   "source": [
    "**Explanation:**\n",
    "\n",
    "- Binary representation of `12`: `00001100`\n",
    "- Shift bits two places to the right: `00000011`\n",
    "- Result: `3` (in decimal).\n"
   ]
  }
 ],
 "metadata": {
  "kernelspec": {
   "display_name": ".venv",
   "language": "python",
   "name": "python3"
  },
  "language_info": {
   "codemirror_mode": {
    "name": "ipython",
    "version": 3
   },
   "file_extension": ".py",
   "mimetype": "text/x-python",
   "name": "python",
   "nbconvert_exporter": "python",
   "pygments_lexer": "ipython3",
   "version": "3.12.8"
  }
 },
 "nbformat": 4,
 "nbformat_minor": 5
}
